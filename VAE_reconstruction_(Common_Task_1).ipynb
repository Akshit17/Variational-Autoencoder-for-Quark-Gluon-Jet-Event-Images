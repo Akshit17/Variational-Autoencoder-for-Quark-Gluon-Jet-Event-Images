{
  "nbformat": 4,
  "nbformat_minor": 0,
  "metadata": {
    "colab": {
      "provenance": [],
      "collapsed_sections": [
        "o-DZJItzzWWf",
        "tuPh0ETMSHdd"
      ]
    },
    "kernelspec": {
      "name": "python3",
      "display_name": "Python 3"
    },
    "language_info": {
      "name": "python"
    },
    "gpuClass": "standard",
    "accelerator": "GPU"
  },
  "cells": [
    {
      "cell_type": "markdown",
      "source": [
        "Common Task 1"
      ],
      "metadata": {
        "id": "Qt7ewAn0StWO"
      }
    },
    {
      "cell_type": "markdown",
      "source": [
        "# Importing Dependencies"
      ],
      "metadata": {
        "id": "9FCT5G7fnV-p"
      }
    },
    {
      "cell_type": "code",
      "execution_count": 1,
      "metadata": {
        "id": "cbGr2vPi1ver"
      },
      "outputs": [],
      "source": [
        "import numpy as np\n",
        "import h5py\n",
        "import tensorflow as tf\n",
        "from tensorflow import keras\n",
        "from tensorflow.keras import layers, models, regularizers\n",
        "from keras.callbacks import EarlyStopping\n",
        "import os\n",
        "import numpy as np\n",
        "import matplotlib.pyplot as plt\n",
        "\n",
        "from tensorflow.keras.preprocessing.image import smart_resize\n",
        "from tensorflow.keras.preprocessing.image import ImageDataGenerator"
      ]
    },
    {
      "cell_type": "markdown",
      "source": [
        "# Importing Data and Preprocessing"
      ],
      "metadata": {
        "id": "nuZu7kqynrYH"
      }
    },
    {
      "cell_type": "code",
      "source": [
        "from google.colab import drive\n",
        "drive.mount('/content/drive')"
      ],
      "metadata": {
        "colab": {
          "base_uri": "https://localhost:8080/"
        },
        "id": "SC9MviBD2gPJ",
        "outputId": "9d0f8d07-3fd1-4ae6-f48c-98a1dc45d736"
      },
      "execution_count": 2,
      "outputs": [
        {
          "output_type": "stream",
          "name": "stdout",
          "text": [
            "Drive already mounted at /content/drive; to attempt to forcibly remount, call drive.mount(\"/content/drive\", force_remount=True).\n"
          ]
        }
      ]
    },
    {
      "cell_type": "code",
      "source": [
        "# Load data from HDF5 file\n",
        "data_path = \"/content/drive/MyDrive/quark-gluon_data-set_n139306.hdf5\"  # Replace with your own file path\n",
        "\n",
        "with h5py.File(data_path, 'r') as f:\n",
        "    print(f\"Keys: {list(f.keys())}\")\n",
        "    X_jets = f['X_jets'][0:8000]                   #To work with only a subset of all images due to computational limit\n",
        "    print(f\"X_jets shape: {X_jets.shape}\")         # Consists of image data\n",
        "    # m0 = f[\"m0\"]\n",
        "    # pt = f[\"pt\"]\n",
        "    # y = f[\"y\"]\n",
        "    # print(f\"m0 shape: {m0.shape}\")               # Mass \n",
        "    # print(f\"pt shape: {pt.shape}\")               # Transverse momentum \n",
        "    # print(f\"y shape: {y.shape}\")                 # Labels \n",
        "\n",
        "# print(X_jets.shape)"
      ],
      "metadata": {
        "id": "FLEIrfXM2H2R",
        "colab": {
          "base_uri": "https://localhost:8080/"
        },
        "outputId": "7a71ddb2-ed15-46c2-fa1f-0b1be6c7fd75"
      },
      "execution_count": 3,
      "outputs": [
        {
          "output_type": "stream",
          "name": "stdout",
          "text": [
            "Keys: ['X_jets', 'm0', 'pt', 'y']\n",
            "X_jets shape: (8000, 125, 125, 3)\n"
          ]
        }
      ]
    },
    {
      "cell_type": "code",
      "source": [
        "# Resizing images from (125, 125, 3) to (128, 128, 3) as when decoding we want image to be in power of 2's dimension for ConvTranspose to retrieve original image dimensions\n",
        "X_jets_resized = np.zeros((X_jets.shape[0], 128, 128, 3))\n",
        "for i in range(X_jets.shape[0]):\n",
        "    X_jets_resized[i] = smart_resize(X_jets[i], (128, 128))\n",
        "\n",
        "X_jets = X_jets_resized\n",
        "del(X_jets_resized)"
      ],
      "metadata": {
        "id": "GRGZFMyAOzqg"
      },
      "execution_count": 4,
      "outputs": []
    },
    {
      "cell_type": "code",
      "source": [
        "print(\"Previous min, max and mean :-\")\n",
        "print(np.min(X_jets))\n",
        "print(np.max(X_jets))\n",
        "print(np.mean(X_jets))\n",
        "\n",
        "X_jets = (X_jets - X_jets.min()) / (X_jets.max() - X_jets.min()) \n",
        "\n",
        "print(\"\\nAfter normalization min, max and mean :-\")\n",
        "print(np.min(X_jets))\n",
        "print(np.max(X_jets))\n",
        "print(np.mean(X_jets))"
      ],
      "metadata": {
        "colab": {
          "base_uri": "https://localhost:8080/"
        },
        "id": "XOSF7zMnEFJ4",
        "outputId": "2d676ece-86fd-4885-8c86-75abd8cdc434"
      },
      "execution_count": 5,
      "outputs": [
        {
          "output_type": "stream",
          "name": "stdout",
          "text": [
            "Previous min, max and mean :-\n",
            "0.0\n",
            "3.6701583862304688\n",
            "5.2979852030647515e-05\n",
            "\n",
            "After normalization min, max and mean :-\n",
            "0.0\n",
            "1.0\n",
            "1.4435303999253826e-05\n"
          ]
        }
      ]
    },
    {
      "cell_type": "markdown",
      "source": [
        "# Data Visualization"
      ],
      "metadata": {
        "id": "o-DZJItzzWWf"
      }
    },
    {
      "cell_type": "code",
      "source": [
        "mean_track = np.mean(X_jets[:,:,:,0])\n",
        "std_track = np.std(X_jets[:,:,:,0])\n",
        "normalized_track = (X_jets[:,:,:,0] - mean_track) / std_track\n",
        "\n",
        "mean_ecal = np.mean(X_jets[:,:,:,1])\n",
        "std_ecal = np.std(X_jets[:,:,:,1])\n",
        "normalized_ecal = (X_jets[:,:,:,1] - mean_ecal) / std_ecal\n",
        "\n",
        "mean_hcal = np.mean(X_jets[:,:,:,2])\n",
        "std_hcal = np.std(X_jets[:,:,:,2])\n",
        "normalized_hcal = (X_jets[:,:,:,2] - mean_hcal) / std_hcal\n",
        "\n",
        "\n",
        "combined = normalized_track + normalized_ecal + normalized_hcal\n",
        "combined = np.expand_dims(combined, axis=-1)  # Reshape to (n, 128, 128, 1)"
      ],
      "metadata": {
        "id": "Jt5ZRa7cBEqD"
      },
      "execution_count": 11,
      "outputs": []
    },
    {
      "cell_type": "code",
      "source": [
        "print(combined.shape)\n",
        "print(combined[0].shape)\n",
        "\n",
        "combined = np.expand_dims(combined, axis=-1)  # Reshape to (n, 128, 128, 1)\n",
        "\n",
        "print(combined.shape)\n",
        "print(combined[0].shape)"
      ],
      "metadata": {
        "colab": {
          "base_uri": "https://localhost:8080/"
        },
        "id": "b1VSgJ16JuLE",
        "outputId": "29361c75-0372-4416-9117-8ab6b2f96b20"
      },
      "execution_count": 7,
      "outputs": [
        {
          "output_type": "stream",
          "name": "stdout",
          "text": [
            "(8000, 128, 128, 1)\n",
            "(128, 128, 1)\n",
            "(8000, 128, 128, 1, 1)\n",
            "(128, 128, 1, 1)\n"
          ]
        }
      ]
    },
    {
      "cell_type": "code",
      "source": [
        "fig, axs = plt.subplots(1, 3, figsize=(20, 20))\n",
        "\n",
        "im1 = axs[0].imshow(normalized_track[0], cmap='viridis', vmin=-0.5, vmax=2.0, interpolation='nearest')\n",
        "axs[0].set_title('Track')\n",
        "\n",
        "im2 = axs[1].imshow(normalized_ecal[0], cmap='viridis', vmin=-0.5, vmax=2.0, interpolation='nearest')\n",
        "axs[1].set_title('ECAL')\n",
        "\n",
        "im3 = axs[2].imshow(normalized_hcal[0], cmap='viridis', vmin=-0.5, vmax=2.0, interpolation='nearest')\n",
        "axs[2].set_title('HCAL')\n",
        "\n",
        "# Add colorbars\n",
        "fig.colorbar(im1, ax=axs[0], shrink=0.25)\n",
        "fig.colorbar(im2, ax=axs[1], shrink=0.25)\n",
        "fig.colorbar(im3, ax=axs[2], shrink=0.25)\n",
        "\n",
        "plt.show()"
      ],
      "metadata": {
        "colab": {
          "base_uri": "https://localhost:8080/",
          "height": 302
        },
        "id": "QuflrzDLGXKK",
        "outputId": "e7b1b45c-39e1-4112-98bc-43871b8a6f29"
      },
      "execution_count": 9,
      "outputs": [
        {
          "output_type": "display_data",
          "data": {
            "text/plain": [
              "<Figure size 1440x1440 with 6 Axes>"
            ],
            "image/png": "[encoded data removed]"
          },
          "metadata": {
            "needs_background": "light"
          }
        }
      ]
    },
    {
      "cell_type": "code",
      "source": [
        "# Select number of images to display\n",
        "num_images = 3\n",
        "\n",
        "# Display original images from X_jets\n",
        "fig, axes = plt.subplots(nrows=1, ncols=num_images, figsize=(20, 20))\n",
        "for i in range(3):\n",
        "    temp = axes[i].imshow(combined[i], cmap='viridis', vmin=-0.5, vmax=2.0, interpolation='nearest')\n",
        "    axes[i].axis('off')\n",
        "    axes[i].set_title('Combined Sample {}'.format(i+1))\n",
        "    fig.colorbar(temp, ax=axes[i], shrink=0.25)\n",
        "        "
      ],
      "metadata": {
        "colab": {
          "base_uri": "https://localhost:8080/",
          "height": 303
        },
        "id": "sgkvwf6f2rDH",
        "outputId": "e790e660-d31b-4674-f1cb-f6b3467a6ff6"
      },
      "execution_count": 12,
      "outputs": [
        {
          "output_type": "display_data",
          "data": {
            "text/plain": [
              "<Figure size 1440x1440 with 6 Axes>"
            ],
            "image/png": "[encoded data removed]"
          },
          "metadata": {
            "needs_background": "light"
          }
        }
      ]
    },
    {
      "cell_type": "markdown",
      "source": [
        "# Building and Training the Model"
      ],
      "metadata": {
        "id": "tLvD1P7azftu"
      }
    },
    {
      "cell_type": "code",
      "source": [
        "def vae_loss(encoder_inputs, outputs, z_mean, z_log_var):\n",
        "    reconstruction_loss = keras.losses.mae(encoder_inputs, outputs)                        # Mean Absolute Error\n",
        "    # reconstruction_loss = keras.losses.mse(encoder_inputs, outputs)                      # Mean Squared Error\n",
        "    # reconstruction_loss = keras.losses.binary_crossentropy(encoder_inputs, outputs)      # Binary Cross Entropy\n",
        "    reconstruction_loss *= 128 * 128 * 3\n",
        "    kl_loss = 1 + z_log_var - tf.square(z_mean) - tf.exp(z_log_var)\n",
        "    kl_loss = tf.reduce_mean(kl_loss)\n",
        "    kl_loss *= -0.5\n",
        "    return reconstruction_loss + kl_loss\n",
        "    \n",
        "# Define sampling function\n",
        "def sampling(args):\n",
        "    z_mean, z_log_var = args\n",
        "    batch = tf.shape(z_mean)[0]\n",
        "    dim = tf.shape(z_mean)[1]\n",
        "    epsilon = tf.keras.backend.random_normal(shape=(batch, dim))\n",
        "    return z_mean + tf.exp(0.5 * z_log_var) * epsilon"
      ],
      "metadata": {
        "id": "iS8jdbmtyjs6"
      },
      "execution_count": 6,
      "outputs": []
    },
    {
      "cell_type": "code",
      "source": [
        "# Split data into training and validation sets\n",
        "split_index = int(0.8 * X_jets.shape[0])\n",
        "X_jets_train = X_jets[:split_index]\n",
        "X_jets_val = X_jets[split_index:]"
      ],
      "metadata": {
        "id": "WWabUr1-28s_"
      },
      "execution_count": null,
      "outputs": []
    },
    {
      "cell_type": "code",
      "source": [
        "train_datagen = ImageDataGenerator(\n",
        "        validation_split=0.2 # split 20% of data for validation set\n",
        ")\n",
        "\n",
        "train_generator = train_datagen.flow(\n",
        "        x=X_jets,\n",
        "        batch_size=32,\n",
        "        shuffle=True,\n",
        "        seed=42,\n",
        "        subset='training' # use subset 'training' to generate training data\n",
        ")\n",
        "\n",
        "valid_generator = train_datagen.flow(\n",
        "        x=X_jets,\n",
        "        batch_size=32,\n",
        "        shuffle=True,\n",
        "        seed=42,\n",
        "        subset='validation' # use subset 'validation' to generate validation data\n",
        ")\n"
      ],
      "metadata": {
        "id": "vS9iu-uWQ9Uo"
      },
      "execution_count": 7,
      "outputs": []
    },
    {
      "cell_type": "code",
      "source": [
        "# Define VAE architecture\n",
        "latent_dim = 512\n",
        "\n",
        "# Define encoder model\n",
        "encoder_inputs = keras.Input(shape=(128, 128, 3))\n",
        "x = layers.Conv2D(32, 3, activation=\"relu\", strides=2, padding=\"same\")(encoder_inputs)\n",
        "x = layers.Conv2D(64, 3, activation=\"relu\", strides=2, padding=\"same\")(x)\n",
        "x = layers.Conv2D(128, 3, activation=\"relu\", strides=2, padding=\"same\")(x)\n",
        "x = layers.Conv2D(256, 3, activation=\"relu\", strides=2, padding=\"same\")(x)\n",
        "x = layers.Flatten()(x)\n",
        "x = layers.Dense(512, activation=\"relu\")(x)\n",
        "\n",
        "z_mean = layers.Dense(latent_dim, name=\"z_mean\")(x)                     # Mean value of encoded input\n",
        "z_log_var = layers.Dense(latent_dim, name=\"z_log_var\")(x)               # Std. dev of encoded input\n",
        "\n",
        "encoder = keras.Model(encoder_inputs, [z_mean, z_log_var], name=\"encoder\")\n",
        "\n",
        "\n",
        "# Define decoder model\n",
        "latent_inputs = keras.Input(shape=(latent_dim,))\n",
        "x = layers.Dense(8 * 8 * 256, activation=\"relu\")(latent_inputs)\n",
        "x = layers.Reshape((8, 8, 256))(x)\n",
        "x = layers.Conv2DTranspose(128, 3, activation=\"relu\", strides=2, padding=\"same\")(x)\n",
        "x = layers.Conv2DTranspose(64, 3, activation=\"relu\", strides=2, padding=\"same\")(x)\n",
        "x = layers.Conv2DTranspose(32, 3, activation=\"relu\", strides=2, padding=\"same\")(x)\n",
        "decoder_outputs = layers.Conv2DTranspose(3, 3, activation=\"sigmoid\", strides=2, padding=\"same\")(x)\n",
        "\n",
        "decoder = keras.Model(latent_inputs, decoder_outputs, name=\"decoder\")\n",
        "\n",
        "print(encoder.summary())\n",
        "print(decoder.summary())\n",
        "\n",
        "# Define VAE model\n",
        "outputs = decoder([sampling([z_mean, z_log_var])])\n",
        "\n",
        "vae = keras.Model(encoder_inputs, outputs, name=\"vae\")\n",
        "\n",
        "print(encoder_inputs.shape.as_list())\n",
        "print(decoder_outputs.shape.as_list())"
      ],
      "metadata": {
        "colab": {
          "base_uri": "https://localhost:8080/"
        },
        "id": "kBVajre-qcTs",
        "outputId": "375e1e3c-a497-41de-84a1-ae1bb3c01a62"
      },
      "execution_count": 11,
      "outputs": [
        {
          "output_type": "stream",
          "name": "stdout",
          "text": [
            "Model: \"encoder\"\n",
            "__________________________________________________________________________________________________\n",
            " Layer (type)                   Output Shape         Param #     Connected to                     \n",
            "==================================================================================================\n",
            " input_3 (InputLayer)           [(None, 128, 128, 3  0           []                               \n",
            "                                )]                                                                \n",
            "                                                                                                  \n",
            " conv2d_2 (Conv2D)              (None, 64, 64, 32)   896         ['input_3[0][0]']                \n",
            "                                                                                                  \n",
            " conv2d_3 (Conv2D)              (None, 32, 32, 64)   18496       ['conv2d_2[0][0]']               \n",
            "                                                                                                  \n",
            " conv2d_4 (Conv2D)              (None, 16, 16, 128)  73856       ['conv2d_3[0][0]']               \n",
            "                                                                                                  \n",
            " conv2d_5 (Conv2D)              (None, 8, 8, 256)    295168      ['conv2d_4[0][0]']               \n",
            "                                                                                                  \n",
            " flatten_1 (Flatten)            (None, 16384)        0           ['conv2d_5[0][0]']               \n",
            "                                                                                                  \n",
            " dense_2 (Dense)                (None, 512)          8389120     ['flatten_1[0][0]']              \n",
            "                                                                                                  \n",
            " z_mean (Dense)                 (None, 512)          262656      ['dense_2[0][0]']                \n",
            "                                                                                                  \n",
            " z_log_var (Dense)              (None, 512)          262656      ['dense_2[0][0]']                \n",
            "                                                                                                  \n",
            "==================================================================================================\n",
            "Total params: 9,302,848\n",
            "Trainable params: 9,302,848\n",
            "Non-trainable params: 0\n",
            "__________________________________________________________________________________________________\n",
            "None\n",
            "Model: \"decoder\"\n",
            "_________________________________________________________________\n",
            " Layer (type)                Output Shape              Param #   \n",
            "=================================================================\n",
            " input_4 (InputLayer)        [(None, 512)]             0         \n",
            "                                                                 \n",
            " dense_3 (Dense)             (None, 16384)             8404992   \n",
            "                                                                 \n",
            " reshape_1 (Reshape)         (None, 8, 8, 256)         0         \n",
            "                                                                 \n",
            " conv2d_transpose_3 (Conv2DT  (None, 16, 16, 128)      295040    \n",
            " ranspose)                                                       \n",
            "                                                                 \n",
            " conv2d_transpose_4 (Conv2DT  (None, 32, 32, 64)       73792     \n",
            " ranspose)                                                       \n",
            "                                                                 \n",
            " conv2d_transpose_5 (Conv2DT  (None, 64, 64, 32)       18464     \n",
            " ranspose)                                                       \n",
            "                                                                 \n",
            " conv2d_transpose_6 (Conv2DT  (None, 128, 128, 3)      867       \n",
            " ranspose)                                                       \n",
            "                                                                 \n",
            "=================================================================\n",
            "Total params: 8,793,155\n",
            "Trainable params: 8,793,155\n",
            "Non-trainable params: 0\n",
            "_________________________________________________________________\n",
            "None\n",
            "[None, 128, 128, 3]\n",
            "[None, 128, 128, 3]\n"
          ]
        }
      ]
    },
    {
      "cell_type": "code",
      "source": [
        "# Compile VAE model\n",
        "vae.add_loss(vae_loss(encoder_inputs, outputs, z_mean, z_log_var))\n",
        "# vae.compile(optimizer=\"adam\")\n",
        "\n",
        "optimizer = keras.optimizers.Adam(learning_rate=0.001)\n",
        "vae.compile(optimizer=optimizer)\n",
        "\n",
        "# Train VAE model\n",
        "es = EarlyStopping(monitor='val_loss', mode='min', verbose=1, patience=5)\n",
        "\n",
        "history = vae.fit(\n",
        "        train_generator,\n",
        "        steps_per_epoch=train_generator.n // train_generator.batch_size,\n",
        "        epochs=30,\n",
        "        validation_data=valid_generator,\n",
        "        validation_steps=valid_generator.n // valid_generator.batch_size,\n",
        "        callbacks=[es],\n",
        "        verbose=1\n",
        ")"
      ],
      "metadata": {
        "id": "zbuqBr3ttv4A",
        "colab": {
          "base_uri": "https://localhost:8080/"
        },
        "outputId": "b7f6b81e-b2c2-4790-fdb2-2b9ce59df9e9"
      },
      "execution_count": 12,
      "outputs": [
        {
          "output_type": "stream",
          "name": "stdout",
          "text": [
            "Epoch 1/30\n",
            "200/200 [==============================] - 12s 31ms/step - loss: 4269.2769 - val_loss: 0.9577\n",
            "Epoch 2/30\n",
            "200/200 [==============================] - 6s 29ms/step - loss: 0.9363 - val_loss: 0.9216\n",
            "Epoch 3/30\n",
            "200/200 [==============================] - 6s 28ms/step - loss: 0.9015 - val_loss: 0.8912\n",
            "Epoch 4/30\n",
            "200/200 [==============================] - 6s 31ms/step - loss: 0.8735 - val_loss: 0.8654\n",
            "Epoch 5/30\n",
            "200/200 [==============================] - 6s 28ms/step - loss: 0.8496 - val_loss: 0.8417\n",
            "Epoch 6/30\n",
            "200/200 [==============================] - 7s 34ms/step - loss: 0.8280 - val_loss: 0.8216\n",
            "Epoch 7/30\n",
            "200/200 [==============================] - 6s 28ms/step - loss: 0.8087 - val_loss: 0.8043\n",
            "Epoch 8/30\n",
            "200/200 [==============================] - 6s 30ms/step - loss: 0.7922 - val_loss: 0.7899\n",
            "Epoch 9/30\n",
            "200/200 [==============================] - 6s 29ms/step - loss: 0.7812 - val_loss: 0.7799\n",
            "Epoch 10/30\n",
            "200/200 [==============================] - 6s 28ms/step - loss: 0.7745 - val_loss: 0.7723\n",
            "Epoch 11/30\n",
            "200/200 [==============================] - 6s 30ms/step - loss: 0.7681 - val_loss: 0.7660\n",
            "Epoch 12/30\n",
            "200/200 [==============================] - 5s 27ms/step - loss: 0.7615 - val_loss: 0.7797\n",
            "Epoch 13/30\n",
            "200/200 [==============================] - 6s 30ms/step - loss: 0.7549 - val_loss: 0.7551\n",
            "Epoch 14/30\n",
            "200/200 [==============================] - 6s 28ms/step - loss: 0.7600 - val_loss: 0.7509\n",
            "Epoch 15/30\n",
            "200/200 [==============================] - 6s 29ms/step - loss: 0.7632 - val_loss: 0.7466\n",
            "Epoch 16/30\n",
            "200/200 [==============================] - 6s 29ms/step - loss: 0.7485 - val_loss: 0.7438\n",
            "Epoch 17/30\n",
            "200/200 [==============================] - 6s 28ms/step - loss: 0.7564 - val_loss: 0.7399\n",
            "Epoch 18/30\n",
            "200/200 [==============================] - 6s 30ms/step - loss: 0.7355 - val_loss: 0.7428\n",
            "Epoch 19/30\n",
            "200/200 [==============================] - 6s 28ms/step - loss: 0.7619 - val_loss: 0.7549\n",
            "Epoch 20/30\n",
            "200/200 [==============================] - 6s 30ms/step - loss: 44.4061 - val_loss: 2.2933\n",
            "Epoch 21/30\n",
            "200/200 [==============================] - 6s 28ms/step - loss: 3.8472 - val_loss: 0.9102\n",
            "Epoch 22/30\n",
            "200/200 [==============================] - 6s 28ms/step - loss: 0.8754 - val_loss: 0.7195\n",
            "Epoch 23/30\n",
            "200/200 [==============================] - 6s 28ms/step - loss: 0.7283 - val_loss: 0.7231\n",
            "Epoch 24/30\n",
            "200/200 [==============================] - 6s 30ms/step - loss: 0.7175 - val_loss: 0.7232\n",
            "Epoch 25/30\n",
            "200/200 [==============================] - 5s 27ms/step - loss: 0.7155 - val_loss: 0.7189\n",
            "Epoch 26/30\n",
            "200/200 [==============================] - 6s 29ms/step - loss: 0.7183 - val_loss: 0.7214\n",
            "Epoch 27/30\n",
            "200/200 [==============================] - 6s 29ms/step - loss: 0.7150 - val_loss: 0.7187\n",
            "Epoch 28/30\n",
            "200/200 [==============================] - 5s 27ms/step - loss: 0.7156 - val_loss: 0.7292\n",
            "Epoch 29/30\n",
            "200/200 [==============================] - 6s 30ms/step - loss: 0.7171 - val_loss: 0.7215\n",
            "Epoch 30/30\n",
            "200/200 [==============================] - 6s 28ms/step - loss: 0.7143 - val_loss: 0.7181\n"
          ]
        }
      ]
    },
    {
      "cell_type": "code",
      "source": [
        "### ARCHITECTURE ONE (1)\n",
        "\n",
        "# Define VAE architecture\n",
        "latent_dim = 512\n",
        "\n",
        "# Define encoder model\n",
        "encoder_inputs = keras.Input(shape=(128, 128, 3))\n",
        "x = layers.Conv2D(32, 3, activation=\"relu\", strides=2, padding=\"same\")(encoder_inputs)\n",
        "x = layers.Conv2D(64, 3, activation=\"relu\", strides=2, padding=\"same\")(x)\n",
        "x = layers.Flatten()(x)\n",
        "x = layers.Dense(512, activation=\"relu\")(x)\n",
        "\n",
        "z_mean = layers.Dense(latent_dim, name=\"z_mean\")(x)                     # Mean value of encoded input\n",
        "z_log_var = layers.Dense(latent_dim, name=\"z_log_var\")(x)               # Std. dev of encoded input\n",
        "\n",
        "encoder = keras.Model(encoder_inputs, [z_mean, z_log_var], name=\"encoder\")\n",
        "\n",
        "\n",
        "\n",
        "# Define decoder model\n",
        "latent_inputs = keras.Input(shape=(latent_dim,))\n",
        "x = layers.Dense(512, activation=\"relu\")(latent_inputs)\n",
        "x = layers.Dense(16 * 16 * 64, activation=\"relu\")(x)\n",
        "x = layers.Reshape((16, 16, 64))(x)\n",
        "x = layers.Conv2DTranspose(64, 3, activation=\"relu\", strides=2, padding=\"same\")(x)\n",
        "x = layers.Conv2DTranspose(32, 3, activation=\"relu\", strides=2, padding=\"same\")(x)\n",
        "decoder_outputs = layers.Conv2DTranspose(3, 3, activation=\"sigmoid\", strides=2, padding=\"same\")(x)\n",
        "\n",
        "#####\n",
        "# decoder_outputs = tf.image.resize(x, (125, 125), method=tf.image.ResizeMethod.NEAREST_NEIGHBOR)       # Use tf.image.resize to resize the output to match the input shape of the encoder model\n",
        "\n",
        "decoder = keras.Model(latent_inputs, decoder_outputs, name=\"decoder\")\n",
        "\n",
        "\n",
        "print(encoder.summary())\n",
        "print(decoder.summary())\n",
        "\n",
        "\n",
        "print(encoder_inputs.shape.as_list())\n",
        "print(decoder_outputs.shape.as_list())"
      ],
      "metadata": {
        "id": "YJ0Rxnzs2QLh"
      },
      "execution_count": null,
      "outputs": []
    },
    {
      "cell_type": "code",
      "source": [
        "### ARCHITECTURE TWO (2)\n",
        "\n",
        "# Define VAE architecture\n",
        "latent_dim = 512\n",
        "\n",
        "# Define encoder model\n",
        "encoder_inputs = keras.Input(shape=(125, 125, 3))\n",
        "x = layers.Conv2D(32, 3, activation=\"relu\", strides=2, padding=\"same\")(encoder_inputs)\n",
        "x = layers.Conv2D(64, 3, activation=\"relu\", strides=2, padding=\"same\")(x)\n",
        "x = layers.Flatten()(x)\n",
        "x = layers.Dense(512, activation=\"relu\")(x)\n",
        "\n",
        "z_mean = layers.Dense(latent_dim, name=\"z_mean\")(x)                     # Mean value of encoded input\n",
        "z_log_var = layers.Dense(latent_dim, name=\"z_log_var\")(x)               # Std. dev of encoded input\n",
        "\n",
        "encoder = keras.Model(encoder_inputs, [z_mean, z_log_var], name=\"encoder\")\n",
        "\n",
        "\n",
        "\n",
        "# Define decoder model\n",
        "latent_inputs = keras.Input(shape=(latent_dim,))\n",
        "x = layers.Dense(512, activation=\"relu\")(latent_inputs)\n",
        "x = layers.Dense(16 * 16 * 64, activation=\"relu\")(x)\n",
        "x = layers.Reshape((16, 16, 64))(x)\n",
        "x = layers.Conv2DTranspose(64, 3, activation=\"relu\", strides=2, padding=\"same\")(x)\n",
        "x = layers.Conv2DTranspose(32, 3, activation=\"relu\", strides=2, padding=\"same\")(x)\n",
        "decoder_outputs = layers.Conv2DTranspose(3, 3, activation=\"sigmoid\", strides=2, padding=\"same\")(x)\n",
        "\n",
        "print(decoder_outputs.shape.as_list())  # Gives (128, 128, 3) so I want to resize it to (125, 125, 3)\n",
        "decoder_outputs = tf.image.resize(decoder_outputs, (125, 125), method=tf.image.ResizeMethod.NEAREST_NEIGHBOR)  # Use tf.image.resize to resize the output to match the input shape of the encoder model\n",
        "\n",
        "decoder = keras.Model(latent_inputs, decoder_outputs, name=\"decoder\")\n",
        "\n",
        "print(encoder.summary())\n",
        "print(decoder.summary())\n",
        "\n",
        "print(encoder_inputs.shape.as_list())\n",
        "print(decoder_outputs.shape.as_list())\n"
      ],
      "metadata": {
        "id": "Tb-pR2N8zAMi",
        "colab": {
          "base_uri": "https://localhost:8080/"
        },
        "outputId": "175dfd55-de73-4545-cd90-b9a7a17db280"
      },
      "execution_count": 6,
      "outputs": [
        {
          "output_type": "stream",
          "name": "stdout",
          "text": [
            "[None, 128, 128, 3]\n",
            "Model: \"encoder\"\n",
            "__________________________________________________________________________________________________\n",
            " Layer (type)                   Output Shape         Param #     Connected to                     \n",
            "==================================================================================================\n",
            " input_1 (InputLayer)           [(None, 125, 125, 3  0           []                               \n",
            "                                )]                                                                \n",
            "                                                                                                  \n",
            " conv2d (Conv2D)                (None, 63, 63, 32)   896         ['input_1[0][0]']                \n",
            "                                                                                                  \n",
            " conv2d_1 (Conv2D)              (None, 32, 32, 64)   18496       ['conv2d[0][0]']                 \n",
            "                                                                                                  \n",
            " flatten (Flatten)              (None, 65536)        0           ['conv2d_1[0][0]']               \n",
            "                                                                                                  \n",
            " dense (Dense)                  (None, 512)          33554944    ['flatten[0][0]']                \n",
            "                                                                                                  \n",
            " z_mean (Dense)                 (None, 512)          262656      ['dense[0][0]']                  \n",
            "                                                                                                  \n",
            " z_log_var (Dense)              (None, 512)          262656      ['dense[0][0]']                  \n",
            "                                                                                                  \n",
            "==================================================================================================\n",
            "Total params: 34,099,648\n",
            "Trainable params: 34,099,648\n",
            "Non-trainable params: 0\n",
            "__________________________________________________________________________________________________\n",
            "None\n",
            "Model: \"decoder\"\n",
            "_________________________________________________________________\n",
            " Layer (type)                Output Shape              Param #   \n",
            "=================================================================\n",
            " input_2 (InputLayer)        [(None, 512)]             0         \n",
            "                                                                 \n",
            " dense_1 (Dense)             (None, 512)               262656    \n",
            "                                                                 \n",
            " dense_2 (Dense)             (None, 16384)             8404992   \n",
            "                                                                 \n",
            " reshape (Reshape)           (None, 16, 16, 64)        0         \n",
            "                                                                 \n",
            " conv2d_transpose (Conv2DTra  (None, 32, 32, 64)       36928     \n",
            " nspose)                                                         \n",
            "                                                                 \n",
            " conv2d_transpose_1 (Conv2DT  (None, 64, 64, 32)       18464     \n",
            " ranspose)                                                       \n",
            "                                                                 \n",
            " conv2d_transpose_2 (Conv2DT  (None, 128, 128, 3)      867       \n",
            " ranspose)                                                       \n",
            "                                                                 \n",
            " tf.image.resize (TFOpLambda  (None, 125, 125, 3)      0         \n",
            " )                                                               \n",
            "                                                                 \n",
            "=================================================================\n",
            "Total params: 8,723,907\n",
            "Trainable params: 8,723,907\n",
            "Non-trainable params: 0\n",
            "_________________________________________________________________\n",
            "None\n",
            "[None, 125, 125, 3]\n",
            "[None, 125, 125, 3]\n"
          ]
        }
      ]
    },
    {
      "cell_type": "code",
      "source": [
        "### ARCHITECTURE THREE (3)\n",
        "\n",
        "# Define VAE architecture\n",
        "latent_dim = 512\n",
        "\n",
        "# Encoder\n",
        "encoder_inputs = keras.Input(shape=(125, 125, 3))\n",
        "\n",
        "x = keras.applications.resnet_v2.ResNet50V2(include_top=False, weights=None, input_shape=(125, 125, 3))(encoder_inputs)\n",
        "x = keras.layers.GlobalAveragePooling2D()(x)\n",
        "z_mean = keras.layers.Dense(latent_dim, name=\"z_mean\")(x)\n",
        "z_log_var = keras.layers.Dense(latent_dim, name=\"z_log_var\")(x)\n",
        "\n",
        "encoder = keras.Model(encoder_inputs, [z_mean, z_log_var], name=\"encoder\")\n",
        "\n",
        "# Decoder\n",
        "latent_inputs = keras.Input(shape=(latent_dim,))\n",
        "x = keras.layers.Dense(16 * 16 * 256, activation=\"relu\")(latent_inputs)\n",
        "x = keras.layers.Reshape((16, 16, 256))(x)\n",
        "x = keras.layers.Conv2DTranspose(128, kernel_size=4, strides=2, padding=\"same\", activation=\"relu\")(x)\n",
        "x = keras.layers.Conv2DTranspose(64, kernel_size=4, strides=2, padding=\"same\", activation=\"relu\")(x)\n",
        "decoder_outputs = keras.layers.Conv2DTranspose(3, kernel_size=4, strides=2, padding=\"same\", activation=\"sigmoid\")(x)\n",
        "\n",
        "# print(decoder_outputs.shape.as_list())  # Gives (128, 128, 3) so I want to resize it to (125, 125, 3)\n",
        "decoder_outputs = tf.image.resize(decoder_outputs, (125, 125), method=tf.image.ResizeMethod.NEAREST_NEIGHBOR)  # Use tf.image.resize to resize the output to match the input shape of the encoder model\n",
        "\n",
        "decoder = keras.Model(latent_inputs, decoder_outputs, name=\"decoder\")\n",
        "\n",
        "print(encoder.summary())\n",
        "print(decoder.summary())\n",
        "\n",
        "print(encoder_inputs.shape.as_list())\n",
        "print(decoder_outputs.shape.as_list())\n"
      ],
      "metadata": {
        "colab": {
          "base_uri": "https://localhost:8080/"
        },
        "id": "7lrwQuG7655z",
        "outputId": "d5945827-a279-4f24-867e-486d75b416c9"
      },
      "execution_count": null,
      "outputs": [
        {
          "output_type": "stream",
          "name": "stdout",
          "text": [
            "Model: \"encoder\"\n",
            "__________________________________________________________________________________________________\n",
            " Layer (type)                   Output Shape         Param #     Connected to                     \n",
            "==================================================================================================\n",
            " input_4 (InputLayer)           [(None, 125, 125, 3  0           []                               \n",
            "                                )]                                                                \n",
            "                                                                                                  \n",
            " resnet50v2 (Functional)        (None, 4, 4, 2048)   23564800    ['input_4[0][0]']                \n",
            "                                                                                                  \n",
            " global_average_pooling2d_1 (Gl  (None, 2048)        0           ['resnet50v2[0][0]']             \n",
            " obalAveragePooling2D)                                                                            \n",
            "                                                                                                  \n",
            " z_mean (Dense)                 (None, 512)          1049088     ['global_average_pooling2d_1[0][0\n",
            "                                                                 ]']                              \n",
            "                                                                                                  \n",
            " z_log_var (Dense)              (None, 512)          1049088     ['global_average_pooling2d_1[0][0\n",
            "                                                                 ]']                              \n",
            "                                                                                                  \n",
            "==================================================================================================\n",
            "Total params: 25,662,976\n",
            "Trainable params: 25,617,536\n",
            "Non-trainable params: 45,440\n",
            "__________________________________________________________________________________________________\n",
            "None\n",
            "Model: \"decoder\"\n",
            "_________________________________________________________________\n",
            " Layer (type)                Output Shape              Param #   \n",
            "=================================================================\n",
            " input_6 (InputLayer)        [(None, 512)]             0         \n",
            "                                                                 \n",
            " dense_1 (Dense)             (None, 65536)             33619968  \n",
            "                                                                 \n",
            " reshape_1 (Reshape)         (None, 16, 16, 256)       0         \n",
            "                                                                 \n",
            " conv2d_transpose_3 (Conv2DT  (None, 32, 32, 128)      524416    \n",
            " ranspose)                                                       \n",
            "                                                                 \n",
            " conv2d_transpose_4 (Conv2DT  (None, 64, 64, 64)       131136    \n",
            " ranspose)                                                       \n",
            "                                                                 \n",
            " conv2d_transpose_5 (Conv2DT  (None, 128, 128, 3)      3075      \n",
            " ranspose)                                                       \n",
            "                                                                 \n",
            " tf.image.resize (TFOpLambda  (None, 125, 125, 3)      0         \n",
            " )                                                               \n",
            "                                                                 \n",
            "=================================================================\n",
            "Total params: 34,278,595\n",
            "Trainable params: 34,278,595\n",
            "Non-trainable params: 0\n",
            "_________________________________________________________________\n",
            "None\n",
            "[None, 125, 125, 3]\n",
            "[None, 125, 125, 3]\n"
          ]
        }
      ]
    },
    {
      "cell_type": "code",
      "source": [
        "# Define VAE model\n",
        "outputs = decoder([sampling([z_mean, z_log_var])])\n",
        "\n",
        "vae = keras.Model(encoder_inputs, outputs, name=\"vae\")"
      ],
      "metadata": {
        "id": "FW69WTxeywSj"
      },
      "execution_count": 9,
      "outputs": []
    },
    {
      "cell_type": "code",
      "source": [
        "\n",
        "# Compile VAE model\n",
        "vae.add_loss(vae_loss(encoder_inputs, outputs, z_mean, z_log_var))\n",
        "# vae.compile(optimizer=\"adam\")\n",
        "\n",
        "optimizer = keras.optimizers.Adam(learning_rate=0.001)\n",
        "vae.compile(optimizer=optimizer)\n"
      ],
      "metadata": {
        "id": "oyDg4RcFSG9c"
      },
      "execution_count": 10,
      "outputs": []
    },
    {
      "cell_type": "code",
      "source": [
        "# Train VAE model\n",
        "es = EarlyStopping(monitor='val_loss', mode='min', verbose=1, patience=5)\n",
        "\n",
        "# combined = np.expand_dims(combined, axis=-1)  # Reshape to (10000, 125, 125, 1) \n",
        "vae.fit(X_jets_train, X_jets_train, epochs=20, batch_size = 64, validation_data = (X_jets_val, X_jets_val), callbacks=[es], verbose=1)\n",
        "\n",
        "# vae.fit(combined, epochs=30, batch_size = 32, validation_split = 0.2)\n",
        "# vae.fit(combined, combined, epochs=50, batch_size=128, validation_data=(combined_test, combined_test), callbacks=[es], verbose=2)"
      ],
      "metadata": {
        "colab": {
          "base_uri": "https://localhost:8080/",
          "height": 473
        },
        "id": "zNJUvbX6SOXr",
        "outputId": "ad2ba2ae-5fa8-4dea-cc32-1fc3c0a8fb72"
      },
      "execution_count": null,
      "outputs": [
        {
          "output_type": "stream",
          "name": "stdout",
          "text": [
            "Epoch 1/20\n",
            "100/100 [==============================] - 2267s 22s/step - loss: 853.9115 - val_loss: 1.3694\n",
            "Epoch 2/20\n",
            "  3/100 [..............................] - ETA: 34:24 - loss: 2.2469"
          ]
        },
        {
          "output_type": "error",
          "ename": "KeyboardInterrupt",
          "evalue": "ignored",
          "traceback": [
            "\u001b[0;31m---------------------------------------------------------------------------\u001b[0m",
            "\u001b[0;31mKeyboardInterrupt\u001b[0m                         Traceback (most recent call last)",
            "\u001b[0;32m<ipython-input-14-777464d9777c>\u001b[0m in \u001b[0;36m<module>\u001b[0;34m\u001b[0m\n\u001b[1;32m      3\u001b[0m \u001b[0;34m\u001b[0m\u001b[0m\n\u001b[1;32m      4\u001b[0m \u001b[0;31m# combined = np.expand_dims(combined, axis=-1)  # Reshape to (10000, 125, 125, 1)\u001b[0m\u001b[0;34m\u001b[0m\u001b[0;34m\u001b[0m\u001b[0m\n\u001b[0;32m----> 5\u001b[0;31m \u001b[0mvae\u001b[0m\u001b[0;34m.\u001b[0m\u001b[0mfit\u001b[0m\u001b[0;34m(\u001b[0m\u001b[0mX_jets_train\u001b[0m\u001b[0;34m,\u001b[0m \u001b[0mX_jets_train\u001b[0m\u001b[0;34m,\u001b[0m \u001b[0mepochs\u001b[0m\u001b[0;34m=\u001b[0m\u001b[0;36m20\u001b[0m\u001b[0;34m,\u001b[0m \u001b[0mbatch_size\u001b[0m \u001b[0;34m=\u001b[0m \u001b[0;36m64\u001b[0m\u001b[0;34m,\u001b[0m \u001b[0mvalidation_data\u001b[0m \u001b[0;34m=\u001b[0m \u001b[0;34m(\u001b[0m\u001b[0mX_jets_val\u001b[0m\u001b[0;34m,\u001b[0m \u001b[0mX_jets_val\u001b[0m\u001b[0;34m)\u001b[0m\u001b[0;34m,\u001b[0m \u001b[0mcallbacks\u001b[0m\u001b[0;34m=\u001b[0m\u001b[0;34m[\u001b[0m\u001b[0mes\u001b[0m\u001b[0;34m]\u001b[0m\u001b[0;34m,\u001b[0m \u001b[0mverbose\u001b[0m\u001b[0;34m=\u001b[0m\u001b[0;36m1\u001b[0m\u001b[0;34m)\u001b[0m\u001b[0;34m\u001b[0m\u001b[0;34m\u001b[0m\u001b[0m\n\u001b[0m\u001b[1;32m      6\u001b[0m \u001b[0;34m\u001b[0m\u001b[0m\n\u001b[1;32m      7\u001b[0m \u001b[0;31m# vae.fit(combined, epochs=30, batch_size = 32, validation_split = 0.2)\u001b[0m\u001b[0;34m\u001b[0m\u001b[0;34m\u001b[0m\u001b[0m\n",
            "\u001b[0;32m/usr/local/lib/python3.9/dist-packages/keras/utils/traceback_utils.py\u001b[0m in \u001b[0;36merror_handler\u001b[0;34m(*args, **kwargs)\u001b[0m\n\u001b[1;32m     63\u001b[0m         \u001b[0mfiltered_tb\u001b[0m \u001b[0;34m=\u001b[0m \u001b[0;32mNone\u001b[0m\u001b[0;34m\u001b[0m\u001b[0;34m\u001b[0m\u001b[0m\n\u001b[1;32m     64\u001b[0m         \u001b[0;32mtry\u001b[0m\u001b[0;34m:\u001b[0m\u001b[0;34m\u001b[0m\u001b[0;34m\u001b[0m\u001b[0m\n\u001b[0;32m---> 65\u001b[0;31m             \u001b[0;32mreturn\u001b[0m \u001b[0mfn\u001b[0m\u001b[0;34m(\u001b[0m\u001b[0;34m*\u001b[0m\u001b[0margs\u001b[0m\u001b[0;34m,\u001b[0m \u001b[0;34m**\u001b[0m\u001b[0mkwargs\u001b[0m\u001b[0;34m)\u001b[0m\u001b[0;34m\u001b[0m\u001b[0;34m\u001b[0m\u001b[0m\n\u001b[0m\u001b[1;32m     66\u001b[0m         \u001b[0;32mexcept\u001b[0m \u001b[0mException\u001b[0m \u001b[0;32mas\u001b[0m \u001b[0me\u001b[0m\u001b[0;34m:\u001b[0m\u001b[0;34m\u001b[0m\u001b[0;34m\u001b[0m\u001b[0m\n\u001b[1;32m     67\u001b[0m             \u001b[0mfiltered_tb\u001b[0m \u001b[0;34m=\u001b[0m \u001b[0m_process_traceback_frames\u001b[0m\u001b[0;34m(\u001b[0m\u001b[0me\u001b[0m\u001b[0;34m.\u001b[0m\u001b[0m__traceback__\u001b[0m\u001b[0;34m)\u001b[0m\u001b[0;34m\u001b[0m\u001b[0;34m\u001b[0m\u001b[0m\n",
            "\u001b[0;32m/usr/local/lib/python3.9/dist-packages/keras/engine/training.py\u001b[0m in \u001b[0;36mfit\u001b[0;34m(self, x, y, batch_size, epochs, verbose, callbacks, validation_split, validation_data, shuffle, class_weight, sample_weight, initial_epoch, steps_per_epoch, validation_steps, validation_batch_size, validation_freq, max_queue_size, workers, use_multiprocessing)\u001b[0m\n\u001b[1;32m   1648\u001b[0m                         ):\n\u001b[1;32m   1649\u001b[0m                             \u001b[0mcallbacks\u001b[0m\u001b[0;34m.\u001b[0m\u001b[0mon_train_batch_begin\u001b[0m\u001b[0;34m(\u001b[0m\u001b[0mstep\u001b[0m\u001b[0;34m)\u001b[0m\u001b[0;34m\u001b[0m\u001b[0;34m\u001b[0m\u001b[0m\n\u001b[0;32m-> 1650\u001b[0;31m                             \u001b[0mtmp_logs\u001b[0m \u001b[0;34m=\u001b[0m \u001b[0mself\u001b[0m\u001b[0;34m.\u001b[0m\u001b[0mtrain_function\u001b[0m\u001b[0;34m(\u001b[0m\u001b[0miterator\u001b[0m\u001b[0;34m)\u001b[0m\u001b[0;34m\u001b[0m\u001b[0;34m\u001b[0m\u001b[0m\n\u001b[0m\u001b[1;32m   1651\u001b[0m                             \u001b[0;32mif\u001b[0m \u001b[0mdata_handler\u001b[0m\u001b[0;34m.\u001b[0m\u001b[0mshould_sync\u001b[0m\u001b[0;34m:\u001b[0m\u001b[0;34m\u001b[0m\u001b[0;34m\u001b[0m\u001b[0m\n\u001b[1;32m   1652\u001b[0m                                 \u001b[0mcontext\u001b[0m\u001b[0;34m.\u001b[0m\u001b[0masync_wait\u001b[0m\u001b[0;34m(\u001b[0m\u001b[0;34m)\u001b[0m\u001b[0;34m\u001b[0m\u001b[0;34m\u001b[0m\u001b[0m\n",
            "\u001b[0;32m/usr/local/lib/python3.9/dist-packages/tensorflow/python/util/traceback_utils.py\u001b[0m in \u001b[0;36merror_handler\u001b[0;34m(*args, **kwargs)\u001b[0m\n\u001b[1;32m    148\u001b[0m     \u001b[0mfiltered_tb\u001b[0m \u001b[0;34m=\u001b[0m \u001b[0;32mNone\u001b[0m\u001b[0;34m\u001b[0m\u001b[0;34m\u001b[0m\u001b[0m\n\u001b[1;32m    149\u001b[0m     \u001b[0;32mtry\u001b[0m\u001b[0;34m:\u001b[0m\u001b[0;34m\u001b[0m\u001b[0;34m\u001b[0m\u001b[0m\n\u001b[0;32m--> 150\u001b[0;31m       \u001b[0;32mreturn\u001b[0m \u001b[0mfn\u001b[0m\u001b[0;34m(\u001b[0m\u001b[0;34m*\u001b[0m\u001b[0margs\u001b[0m\u001b[0;34m,\u001b[0m \u001b[0;34m**\u001b[0m\u001b[0mkwargs\u001b[0m\u001b[0;34m)\u001b[0m\u001b[0;34m\u001b[0m\u001b[0;34m\u001b[0m\u001b[0m\n\u001b[0m\u001b[1;32m    151\u001b[0m     \u001b[0;32mexcept\u001b[0m \u001b[0mException\u001b[0m \u001b[0;32mas\u001b[0m \u001b[0me\u001b[0m\u001b[0;34m:\u001b[0m\u001b[0;34m\u001b[0m\u001b[0;34m\u001b[0m\u001b[0m\n\u001b[1;32m    152\u001b[0m       \u001b[0mfiltered_tb\u001b[0m \u001b[0;34m=\u001b[0m \u001b[0m_process_traceback_frames\u001b[0m\u001b[0;34m(\u001b[0m\u001b[0me\u001b[0m\u001b[0;34m.\u001b[0m\u001b[0m__traceback__\u001b[0m\u001b[0;34m)\u001b[0m\u001b[0;34m\u001b[0m\u001b[0;34m\u001b[0m\u001b[0m\n",
            "\u001b[0;32m/usr/local/lib/python3.9/dist-packages/tensorflow/python/eager/polymorphic_function/polymorphic_function.py\u001b[0m in \u001b[0;36m__call__\u001b[0;34m(self, *args, **kwds)\u001b[0m\n\u001b[1;32m    878\u001b[0m \u001b[0;34m\u001b[0m\u001b[0m\n\u001b[1;32m    879\u001b[0m       \u001b[0;32mwith\u001b[0m \u001b[0mOptionalXlaContext\u001b[0m\u001b[0;34m(\u001b[0m\u001b[0mself\u001b[0m\u001b[0;34m.\u001b[0m\u001b[0m_jit_compile\u001b[0m\u001b[0;34m)\u001b[0m\u001b[0;34m:\u001b[0m\u001b[0;34m\u001b[0m\u001b[0;34m\u001b[0m\u001b[0m\n\u001b[0;32m--> 880\u001b[0;31m         \u001b[0mresult\u001b[0m \u001b[0;34m=\u001b[0m \u001b[0mself\u001b[0m\u001b[0;34m.\u001b[0m\u001b[0m_call\u001b[0m\u001b[0;34m(\u001b[0m\u001b[0;34m*\u001b[0m\u001b[0margs\u001b[0m\u001b[0;34m,\u001b[0m \u001b[0;34m**\u001b[0m\u001b[0mkwds\u001b[0m\u001b[0;34m)\u001b[0m\u001b[0;34m\u001b[0m\u001b[0;34m\u001b[0m\u001b[0m\n\u001b[0m\u001b[1;32m    881\u001b[0m \u001b[0;34m\u001b[0m\u001b[0m\n\u001b[1;32m    882\u001b[0m       \u001b[0mnew_tracing_count\u001b[0m \u001b[0;34m=\u001b[0m \u001b[0mself\u001b[0m\u001b[0;34m.\u001b[0m\u001b[0mexperimental_get_tracing_count\u001b[0m\u001b[0;34m(\u001b[0m\u001b[0;34m)\u001b[0m\u001b[0;34m\u001b[0m\u001b[0;34m\u001b[0m\u001b[0m\n",
            "\u001b[0;32m/usr/local/lib/python3.9/dist-packages/tensorflow/python/eager/polymorphic_function/polymorphic_function.py\u001b[0m in \u001b[0;36m_call\u001b[0;34m(self, *args, **kwds)\u001b[0m\n\u001b[1;32m    910\u001b[0m       \u001b[0;31m# In this case we have created variables on the first call, so we run the\u001b[0m\u001b[0;34m\u001b[0m\u001b[0;34m\u001b[0m\u001b[0m\n\u001b[1;32m    911\u001b[0m       \u001b[0;31m# defunned version which is guaranteed to never create variables.\u001b[0m\u001b[0;34m\u001b[0m\u001b[0;34m\u001b[0m\u001b[0m\n\u001b[0;32m--> 912\u001b[0;31m       \u001b[0;32mreturn\u001b[0m \u001b[0mself\u001b[0m\u001b[0;34m.\u001b[0m\u001b[0m_no_variable_creation_fn\u001b[0m\u001b[0;34m(\u001b[0m\u001b[0;34m*\u001b[0m\u001b[0margs\u001b[0m\u001b[0;34m,\u001b[0m \u001b[0;34m**\u001b[0m\u001b[0mkwds\u001b[0m\u001b[0;34m)\u001b[0m  \u001b[0;31m# pylint: disable=not-callable\u001b[0m\u001b[0;34m\u001b[0m\u001b[0;34m\u001b[0m\u001b[0m\n\u001b[0m\u001b[1;32m    913\u001b[0m     \u001b[0;32melif\u001b[0m \u001b[0mself\u001b[0m\u001b[0;34m.\u001b[0m\u001b[0m_variable_creation_fn\u001b[0m \u001b[0;32mis\u001b[0m \u001b[0;32mnot\u001b[0m \u001b[0;32mNone\u001b[0m\u001b[0;34m:\u001b[0m\u001b[0;34m\u001b[0m\u001b[0;34m\u001b[0m\u001b[0m\n\u001b[1;32m    914\u001b[0m       \u001b[0;31m# Release the lock early so that multiple threads can perform the call\u001b[0m\u001b[0;34m\u001b[0m\u001b[0;34m\u001b[0m\u001b[0m\n",
            "\u001b[0;32m/usr/local/lib/python3.9/dist-packages/tensorflow/python/eager/polymorphic_function/tracing_compiler.py\u001b[0m in \u001b[0;36m__call__\u001b[0;34m(self, *args, **kwargs)\u001b[0m\n\u001b[1;32m    132\u001b[0m       (concrete_function,\n\u001b[1;32m    133\u001b[0m        filtered_flat_args) = self._maybe_define_function(args, kwargs)\n\u001b[0;32m--> 134\u001b[0;31m     return concrete_function._call_flat(\n\u001b[0m\u001b[1;32m    135\u001b[0m         filtered_flat_args, captured_inputs=concrete_function.captured_inputs)  # pylint: disable=protected-access\n\u001b[1;32m    136\u001b[0m \u001b[0;34m\u001b[0m\u001b[0m\n",
            "\u001b[0;32m/usr/local/lib/python3.9/dist-packages/tensorflow/python/eager/polymorphic_function/monomorphic_function.py\u001b[0m in \u001b[0;36m_call_flat\u001b[0;34m(self, args, captured_inputs, cancellation_manager)\u001b[0m\n\u001b[1;32m   1743\u001b[0m         and executing_eagerly):\n\u001b[1;32m   1744\u001b[0m       \u001b[0;31m# No tape is watching; skip to running the function.\u001b[0m\u001b[0;34m\u001b[0m\u001b[0;34m\u001b[0m\u001b[0m\n\u001b[0;32m-> 1745\u001b[0;31m       return self._build_call_outputs(self._inference_function.call(\n\u001b[0m\u001b[1;32m   1746\u001b[0m           ctx, args, cancellation_manager=cancellation_manager))\n\u001b[1;32m   1747\u001b[0m     forward_backward = self._select_forward_and_backward_functions(\n",
            "\u001b[0;32m/usr/local/lib/python3.9/dist-packages/tensorflow/python/eager/polymorphic_function/monomorphic_function.py\u001b[0m in \u001b[0;36mcall\u001b[0;34m(self, ctx, args, cancellation_manager)\u001b[0m\n\u001b[1;32m    376\u001b[0m       \u001b[0;32mwith\u001b[0m \u001b[0m_InterpolateFunctionError\u001b[0m\u001b[0;34m(\u001b[0m\u001b[0mself\u001b[0m\u001b[0;34m)\u001b[0m\u001b[0;34m:\u001b[0m\u001b[0;34m\u001b[0m\u001b[0;34m\u001b[0m\u001b[0m\n\u001b[1;32m    377\u001b[0m         \u001b[0;32mif\u001b[0m \u001b[0mcancellation_manager\u001b[0m \u001b[0;32mis\u001b[0m \u001b[0;32mNone\u001b[0m\u001b[0;34m:\u001b[0m\u001b[0;34m\u001b[0m\u001b[0;34m\u001b[0m\u001b[0m\n\u001b[0;32m--> 378\u001b[0;31m           outputs = execute.execute(\n\u001b[0m\u001b[1;32m    379\u001b[0m               \u001b[0mstr\u001b[0m\u001b[0;34m(\u001b[0m\u001b[0mself\u001b[0m\u001b[0;34m.\u001b[0m\u001b[0msignature\u001b[0m\u001b[0;34m.\u001b[0m\u001b[0mname\u001b[0m\u001b[0;34m)\u001b[0m\u001b[0;34m,\u001b[0m\u001b[0;34m\u001b[0m\u001b[0;34m\u001b[0m\u001b[0m\n\u001b[1;32m    380\u001b[0m               \u001b[0mnum_outputs\u001b[0m\u001b[0;34m=\u001b[0m\u001b[0mself\u001b[0m\u001b[0;34m.\u001b[0m\u001b[0m_num_outputs\u001b[0m\u001b[0;34m,\u001b[0m\u001b[0;34m\u001b[0m\u001b[0;34m\u001b[0m\u001b[0m\n",
            "\u001b[0;32m/usr/local/lib/python3.9/dist-packages/tensorflow/python/eager/execute.py\u001b[0m in \u001b[0;36mquick_execute\u001b[0;34m(op_name, num_outputs, inputs, attrs, ctx, name)\u001b[0m\n\u001b[1;32m     50\u001b[0m   \u001b[0;32mtry\u001b[0m\u001b[0;34m:\u001b[0m\u001b[0;34m\u001b[0m\u001b[0;34m\u001b[0m\u001b[0m\n\u001b[1;32m     51\u001b[0m     \u001b[0mctx\u001b[0m\u001b[0;34m.\u001b[0m\u001b[0mensure_initialized\u001b[0m\u001b[0;34m(\u001b[0m\u001b[0;34m)\u001b[0m\u001b[0;34m\u001b[0m\u001b[0;34m\u001b[0m\u001b[0m\n\u001b[0;32m---> 52\u001b[0;31m     tensors = pywrap_tfe.TFE_Py_Execute(ctx._handle, device_name, op_name,\n\u001b[0m\u001b[1;32m     53\u001b[0m                                         inputs, attrs, num_outputs)\n\u001b[1;32m     54\u001b[0m   \u001b[0;32mexcept\u001b[0m \u001b[0mcore\u001b[0m\u001b[0;34m.\u001b[0m\u001b[0m_NotOkStatusException\u001b[0m \u001b[0;32mas\u001b[0m \u001b[0me\u001b[0m\u001b[0;34m:\u001b[0m\u001b[0;34m\u001b[0m\u001b[0;34m\u001b[0m\u001b[0m\n",
            "\u001b[0;31mKeyboardInterrupt\u001b[0m: "
          ]
        }
      ]
    },
    {
      "cell_type": "code",
      "source": [
        "# Select some random samples from the dataset\n",
        "samples = X_jets[:3]\n",
        "\n",
        "# Encode the samples using the VAE's encoder\n",
        "z_mean, z_log_var = encoder.predict(samples)\n",
        "batch_size = 3\n",
        "\n",
        "# Decode the encoded samples using the VAE's decoder\n",
        "reconstructed_samples = decoder.predict(z_mean + np.exp(0.5 * z_log_var) * np.random.normal(size=(batch_size, latent_dim)))\n",
        "\n",
        "# print(type(reconstructed_samples))\n",
        "# print(reconstructed_samples.shape)\n",
        "# print(np.unique(reconstructed_samples))\n",
        "# # print(reconstructed_samples)\n",
        "\n",
        "mean_track = np.mean(X_jets[:,:,:,0])\n",
        "std_track = np.std(X_jets[:,:,:,0])\n",
        "normalized_track = (X_jets[:,:,:,0] - mean_track) / std_track\n",
        "\n",
        "mean_ecal = np.mean(X_jets[:,:,:,1])\n",
        "std_ecal = np.std(X_jets[:,:,:,1])\n",
        "normalized_ecal = (X_jets[:,:,:,1] - mean_ecal) / std_ecal\n",
        "\n",
        "mean_hcal = np.mean(X_jets[:,:,:,2])\n",
        "std_hcal = np.std(X_jets[:,:,:,2])\n",
        "normalized_hcal = (X_jets[:,:,:,2] - mean_hcal) / std_hcal\n",
        "\n",
        "X_jets_combined = normalized_track + normalized_ecal + normalized_hcal\n",
        "# X_jets_combined = X_jets[:,:,:,0] + X_jets[:,:,:,1] + X_jets[:,:,:,2]\n",
        "print(X_jets_combined.shape)\n",
        "print(X_jets_combined[0].shape)\n",
        "\n",
        "###############\n",
        "X_jets_combined = np.expand_dims(X_jets_combined, axis=-1)  # Reshape to (n, 125, 125, 1)\n",
        "\n",
        "\n",
        "mean_track = np.mean(reconstructed_samples[:,:,:,0])\n",
        "std_track = np.std(reconstructed_samples[:,:,:,0])\n",
        "normalized_track = (reconstructed_samples[:,:,:,0] - mean_track) / std_track\n",
        "\n",
        "mean_ecal = np.mean(reconstructed_samples[:,:,:,1])\n",
        "std_ecal = np.std(reconstructed_samples[:,:,:,1])\n",
        "normalized_ecal = (reconstructed_samples[:,:,:,1] - mean_ecal) / std_ecal\n",
        "\n",
        "mean_hcal = np.mean(reconstructed_samples[:,:,:,2])\n",
        "std_hcal = np.std(reconstructed_samples[:,:,:,2])\n",
        "normalized_hcal = (reconstructed_samples[:,:,:,2] - mean_hcal) / std_hcal\n",
        "\n",
        "reconstructed_samples = normalized_track + normalized_ecal + normalized_hcal\n",
        "\n",
        "print(reconstructed_samples.shape)\n",
        "print(reconstructed_samples[0].shape)\n",
        "\n",
        "###############\n",
        "reconstructed_samples = np.expand_dims(reconstructed_samples, axis=-1)  # Reshape to (n, 125, 125, 1)\n",
        "\n",
        "\n",
        "# Display some of the original images\n",
        "fig, axes = plt.subplots(nrows=2, ncols=3, figsize=(20, 20))\n",
        "for i in range(3):\n",
        "    axes[0, i].imshow(X_jets_combined[i], cmap='viridis', vmin=-0.5, vmax=2.0, interpolation='nearest')\n",
        "    axes[0, i].axis('off')  # Remove axis ticks\n",
        "\n",
        "for i in range(3):\n",
        "    axes[1, i].imshow(reconstructed_samples[i], cmap='viridis', vmin=-0.5, vmax=2.0, interpolation='nearest')\n",
        "    axes[1, i].axis('off')  # Remove axis ticks\n",
        "plt.show()"
      ],
      "metadata": {
        "colab": {
          "base_uri": "https://localhost:8080/",
          "height": 1000
        },
        "id": "Rgp9myAYSSJE",
        "outputId": "12eb0473-bfad-49f6-f8a4-15e29bf02631"
      },
      "execution_count": 10,
      "outputs": [
        {
          "output_type": "stream",
          "name": "stdout",
          "text": [
            "1/1 [==============================] - 0s 135ms/step\n",
            "1/1 [==============================] - 0s 134ms/step\n",
            "(8000, 128, 128)\n",
            "(128, 128)\n",
            "(3, 128, 128)\n",
            "(128, 128)\n"
          ]
        },
        {
          "output_type": "stream",
          "name": "stderr",
          "text": [
            "<ipython-input-10-bb931c7eeff9>:39: RuntimeWarning: divide by zero encountered in true_divide\n",
            "  normalized_track = (reconstructed_samples[:,:,:,0] - mean_track) / std_track\n",
            "<ipython-input-10-bb931c7eeff9>:43: RuntimeWarning: divide by zero encountered in true_divide\n",
            "  normalized_ecal = (reconstructed_samples[:,:,:,1] - mean_ecal) / std_ecal\n",
            "<ipython-input-10-bb931c7eeff9>:47: RuntimeWarning: divide by zero encountered in true_divide\n",
            "  normalized_hcal = (reconstructed_samples[:,:,:,2] - mean_hcal) / std_hcal\n",
            "<ipython-input-10-bb931c7eeff9>:49: RuntimeWarning: invalid value encountered in add\n",
            "  reconstructed_samples = normalized_track + normalized_ecal + normalized_hcal\n"
          ]
        },
        {
          "output_type": "display_data",
          "data": {
            "text/plain": [
              "<Figure size 1440x1440 with 6 Axes>"
            ],
            "image/png": "[encoded data removed]"
          },
          "metadata": {
            "needs_background": "light"
          }
        }
      ]
    },
    {
      "cell_type": "code",
      "source": [
        "print(X_jets_combined.shape)\n",
        "print(X_jets_combined[0].shape)\n",
        "print(reconstructed_samples.shape)\n",
        "print(reconstructed_samples[0].shape)"
      ],
      "metadata": {
        "colab": {
          "base_uri": "https://localhost:8080/"
        },
        "id": "Qr0vAv4YCrdj",
        "outputId": "918fb6a7-14a4-41a2-a0e9-8611bca5b063"
      },
      "execution_count": null,
      "outputs": [
        {
          "output_type": "stream",
          "name": "stdout",
          "text": [
            "(6500, 128, 128, 1)\n",
            "(128, 128, 1)\n",
            "(3, 128, 128, 1)\n",
            "(128, 128, 1)\n"
          ]
        }
      ]
    },
    {
      "cell_type": "code",
      "source": [
        "# Select a random index to plot\n",
        "idx = np.random.randint(X_jets.shape[0])\n",
        "\n",
        "# Original image\n",
        "orig_img = X_jets[idx]\n",
        "# Reshape to (125, 125, 3)\n",
        "orig_img = np.stack([orig_img[:, :, 0], orig_img[:, :, 1], orig_img[:, :, 2]], axis=-1)\n",
        "\n",
        "# Reconstructed image\n",
        "rec_img = vae.predict(orig_img[np.newaxis, ...])[0]\n",
        "# Reshape to (125, 125, 3)\n",
        "rec_img = np.stack([rec_img[:, :, 0], rec_img[:, :, 1], rec_img[:, :, 2]], axis=-1)\n",
        "\n",
        "# Combine the two images horizontally\n",
        "combined_img = np.concatenate([orig_img, rec_img], axis=1)\n",
        "\n",
        "# Plot the images\n",
        "fig, ax = plt.subplots(figsize=(10, 5))\n",
        "ax.imshow(combined_img)\n",
        "ax.axis(\"off\")\n",
        "plt.show()"
      ],
      "metadata": {
        "colab": {
          "base_uri": "https://localhost:8080/",
          "height": 320
        },
        "id": "eLS9zC4fhnLk",
        "outputId": "9bfbab8f-1d1d-4d82-ee0a-ce314ca34508"
      },
      "execution_count": null,
      "outputs": [
        {
          "output_type": "stream",
          "name": "stdout",
          "text": [
            "1/1 [==============================] - 0s 461ms/step\n"
          ]
        },
        {
          "output_type": "display_data",
          "data": {
            "text/plain": [
              "<Figure size 720x360 with 1 Axes>"
            ],
            "image/png": "[encoded data removed]"
          },
          "metadata": {
            "needs_background": "light"
          }
        }
      ]
    },
    {
      "cell_type": "markdown",
      "source": [
        "# Baseline"
      ],
      "metadata": {
        "id": "tuPh0ETMSHdd"
      }
    },
    {
      "cell_type": "code",
      "source": [
        "split_index = int(0.8 * combined.shape[0])\n",
        "combined_test = combined[split_index:]\n",
        "combined = combined[:split_index]"
      ],
      "metadata": {
        "id": "a2oZ44g9FTeQ"
      },
      "execution_count": null,
      "outputs": []
    },
    {
      "cell_type": "code",
      "source": [
        "# Define VAE architecture\n",
        "latent_dim = 1024"
      ],
      "metadata": {
        "id": "Rz4jHp1B2Sfh"
      },
      "execution_count": null,
      "outputs": []
    },
    {
      "cell_type": "code",
      "source": [
        "# Define encoder model\n",
        "\n",
        "\n",
        "encoder_inputs = keras.Input(shape=(125, 125, 1))\n",
        "x = layers.Conv2D(32, 3, activation=\"relu\", strides=2, padding=\"same\")(encoder_inputs)\n",
        "x = layers.Conv2D(64, 3, activation=\"relu\", strides=2, padding=\"same\")(x)\n",
        "x = layers.Flatten()(x)\n",
        "x = layers.Dense(512, activation=\"relu\")(x)\n",
        "\n",
        "z_mean = layers.Dense(latent_dim, name=\"z_mean\")(x)                     # Mean value of encoded input\n",
        "z_log_var = layers.Dense(latent_dim, name=\"z_log_var\")(x)               # Std. dev of encoded input\n",
        "\n",
        "encoder = keras.Model(encoder_inputs, [z_mean, z_log_var], name=\"encoder\")\n"
      ],
      "metadata": {
        "id": "QOEHiSfA2UTJ"
      },
      "execution_count": null,
      "outputs": []
    },
    {
      "cell_type": "code",
      "source": [
        "# Define sampling function\n",
        "def sampling(args):\n",
        "    z_mean, z_log_var = args\n",
        "    batch = tf.shape(z_mean)[0]\n",
        "    dim = tf.shape(z_mean)[1]\n",
        "    epsilon = tf.keras.backend.random_normal(shape=(batch, dim))\n",
        "    return z_mean + tf.exp(0.5 * z_log_var) * epsilon"
      ],
      "metadata": {
        "id": "WSWVAGGk2Uug"
      },
      "execution_count": null,
      "outputs": []
    },
    {
      "cell_type": "code",
      "source": [
        "# Define decoder model\n",
        "\n",
        "latent_inputs = keras.Input(shape=(latent_dim,))\n",
        "\n",
        "latent_inputs = keras.Input(shape=(latent_dim,))\n",
        "x = layers.Dense(512, activation=\"relu\")(latent_inputs)\n",
        "x = layers.Dense(16 * 16 * 64, activation=\"relu\")(x)\n",
        "x = layers.Reshape((16, 16, 64))(x)\n",
        "x = layers.Conv2DTranspose(64, 3, activation=\"relu\", strides=2, padding=\"same\")(x)\n",
        "# x = layers.Conv2DTranspose(32, 3, activation=\"relu\", strides=2, padding=\"same\")(x)\n",
        "\n",
        "decoder_outputs = tf.image.resize(x, (125, 125), method=tf.image.ResizeMethod.NEAREST_NEIGHBOR)       # Use tf.image.resize to resize the output to match the input shape of the encoder model\n",
        "\n",
        "decoder_outputs = layers.Conv2DTranspose(1, 3, activation=\"sigmoid\", padding=\"same\")(decoder_outputs)\n",
        "\n",
        "decoder = keras.Model(latent_inputs, decoder_outputs, name=\"decoder\")\n",
        "\n",
        "\n"
      ],
      "metadata": {
        "id": "wZcLTWTr2WUI"
      },
      "execution_count": null,
      "outputs": []
    },
    {
      "cell_type": "code",
      "source": [
        "print(encoder.summary())\n",
        "print(decoder.summary())"
      ],
      "metadata": {
        "colab": {
          "base_uri": "https://localhost:8080/"
        },
        "id": "fbR44Wb_Vrpf",
        "outputId": "fcac857e-fde0-4901-94a6-8089b244c8eb"
      },
      "execution_count": null,
      "outputs": [
        {
          "output_type": "stream",
          "name": "stdout",
          "text": [
            "Model: \"encoder\"\n",
            "__________________________________________________________________________________________________\n",
            " Layer (type)                   Output Shape         Param #     Connected to                     \n",
            "==================================================================================================\n",
            " input_1 (InputLayer)           [(None, 125, 125, 1  0           []                               \n",
            "                                )]                                                                \n",
            "                                                                                                  \n",
            " conv2d_1 (Conv2D)              (None, 63, 63, 32)   320         ['input_1[0][0]']                \n",
            "                                                                                                  \n",
            " conv2d_2 (Conv2D)              (None, 32, 32, 64)   18496       ['conv2d_1[0][0]']               \n",
            "                                                                                                  \n",
            " flatten (Flatten)              (None, 65536)        0           ['conv2d_2[0][0]']               \n",
            "                                                                                                  \n",
            " dense (Dense)                  (None, 512)          33554944    ['flatten[0][0]']                \n",
            "                                                                                                  \n",
            " z_mean (Dense)                 (None, 1024)         525312      ['dense[0][0]']                  \n",
            "                                                                                                  \n",
            " z_log_var (Dense)              (None, 1024)         525312      ['dense[0][0]']                  \n",
            "                                                                                                  \n",
            "==================================================================================================\n",
            "Total params: 34,624,384\n",
            "Trainable params: 34,624,384\n",
            "Non-trainable params: 0\n",
            "__________________________________________________________________________________________________\n",
            "None\n",
            "Model: \"decoder\"\n",
            "_________________________________________________________________\n",
            " Layer (type)                Output Shape              Param #   \n",
            "=================================================================\n",
            " input_3 (InputLayer)        [(None, 1024)]            0         \n",
            "                                                                 \n",
            " dense_1 (Dense)             (None, 512)               524800    \n",
            "                                                                 \n",
            " dense_2 (Dense)             (None, 16384)             8404992   \n",
            "                                                                 \n",
            " reshape (Reshape)           (None, 16, 16, 64)        0         \n",
            "                                                                 \n",
            " conv2d_transpose (Conv2DTra  (None, 32, 32, 64)       36928     \n",
            " nspose)                                                         \n",
            "                                                                 \n",
            " tf.image.resize (TFOpLambda  (None, 125, 125, 64)     0         \n",
            " )                                                               \n",
            "                                                                 \n",
            " conv2d_transpose_1 (Conv2DT  (None, 125, 125, 1)      577       \n",
            " ranspose)                                                       \n",
            "                                                                 \n",
            "=================================================================\n",
            "Total params: 8,967,297\n",
            "Trainable params: 8,967,297\n",
            "Non-trainable params: 0\n",
            "_________________________________________________________________\n",
            "None\n"
          ]
        }
      ]
    },
    {
      "cell_type": "code",
      "source": [
        "# Define VAE model\n",
        "outputs = decoder([sampling([z_mean, z_log_var])])\n",
        "\n",
        "vae = keras.Model(encoder_inputs, outputs, name=\"vae\")"
      ],
      "metadata": {
        "id": "U9teXCtn2YD5"
      },
      "execution_count": null,
      "outputs": []
    },
    {
      "cell_type": "code",
      "source": [
        "print(encoder_inputs.shape.as_list())\n",
        "print(decoder_outputs.shape.as_list())"
      ],
      "metadata": {
        "colab": {
          "base_uri": "https://localhost:8080/"
        },
        "id": "qlnFtPqTkdn3",
        "outputId": "d60770e7-e31e-4864-e578-7fdb9200f743"
      },
      "execution_count": null,
      "outputs": [
        {
          "output_type": "stream",
          "name": "stdout",
          "text": [
            "[None, 125, 125, 1]\n",
            "[None, 125, 125, 1]\n"
          ]
        }
      ]
    },
    {
      "cell_type": "code",
      "source": [
        "def vae_loss(encoder_inputs, outputs, z_mean, z_log_var):\n",
        "    reconstruction_loss = keras.losses.mse(encoder_inputs, outputs)\n",
        "    reconstruction_loss *= 125 * 125 * 1\n",
        "    kl_loss = 1 + z_log_var - tf.square(z_mean) - tf.exp(z_log_var)\n",
        "    kl_loss = tf.reduce_mean(kl_loss)\n",
        "    kl_loss *= -0.5\n",
        "    return reconstruction_loss + kl_loss\n",
        "\n",
        "# def vae_loss(inputs, outputs, z_mean, z_log_var):\n",
        "#     reconstruction_loss = keras.losses.mse(inputs, outputs)\n",
        "#     reconstruction_loss *= 125 * 125 * 1\n",
        "    \n",
        "#     kl_loss = 1 + z_log_var - tf.square(z_mean) - tf.exp(z_log_var)\n",
        "#     kl_loss = -0.5 * tf.reduce_sum(kl_loss, axis=-1)\n",
        "    \n",
        "#     regularization_loss = tf.reduce_sum(vae.losses)\n",
        "    \n",
        "#     return tf.reduce_mean(reconstruction_loss + kl_loss + regularization_loss)\n"
      ],
      "metadata": {
        "id": "jqcpNZX72ZT5"
      },
      "execution_count": null,
      "outputs": []
    },
    {
      "cell_type": "code",
      "source": [
        "# Compile VAE model\n",
        "vae.add_loss(vae_loss(encoder_inputs, outputs, z_mean, z_log_var))\n",
        "# vae.compile(optimizer=\"adam\")\n",
        "\n",
        "optimizer = keras.optimizers.Adam(learning_rate=0.001)\n",
        "vae.compile(optimizer=optimizer)"
      ],
      "metadata": {
        "id": "QsrQ9Il52c1g"
      },
      "execution_count": null,
      "outputs": []
    },
    {
      "cell_type": "code",
      "source": [
        "# Train VAE model\n",
        "es = EarlyStopping(monitor='val_loss', mode='min', verbose=1, patience=5)\n",
        "\n",
        "# combined = np.expand_dims(combined, axis=-1)  # Reshape to (10000, 125, 125, 1) \n",
        "# vae.fit(X_jets_train, epochs=30, batch_size = 32, validation_split = 0.2)\n",
        "# vae.fit(combined, epochs=30, batch_size = 32, validation_split = 0.2)\n",
        "vae.fit(combined, combined, epochs=50, batch_size=128, validation_data=(combined_test, combined_test), callbacks=[es], verbose=2)"
      ],
      "metadata": {
        "colab": {
          "base_uri": "https://localhost:8080/",
          "height": 528
        },
        "id": "gEXakCDs2ebR",
        "outputId": "62b85b16-21d7-4b29-dcd7-7bb199ad8aba"
      },
      "execution_count": null,
      "outputs": [
        {
          "output_type": "stream",
          "name": "stdout",
          "text": [
            "Epoch 1/50\n",
            "32/32 - 4s - loss: nan - val_loss: nan - 4s/epoch - 111ms/step\n",
            "Epoch 2/50\n",
            "32/32 - 2s - loss: nan - val_loss: nan - 2s/epoch - 70ms/step\n",
            "Epoch 3/50\n",
            "32/32 - 2s - loss: nan - val_loss: nan - 2s/epoch - 72ms/step\n",
            "Epoch 4/50\n",
            "32/32 - 2s - loss: nan - val_loss: nan - 2s/epoch - 70ms/step\n",
            "Epoch 5/50\n"
          ]
        },
        {
          "output_type": "error",
          "ename": "KeyboardInterrupt",
          "evalue": "ignored",
          "traceback": [
            "\u001b[0;31m---------------------------------------------------------------------------\u001b[0m",
            "\u001b[0;31mKeyboardInterrupt\u001b[0m                         Traceback (most recent call last)",
            "\u001b[0;32m<ipython-input-18-a2d42c441058>\u001b[0m in \u001b[0;36m<module>\u001b[0;34m\u001b[0m\n\u001b[1;32m      5\u001b[0m \u001b[0;31m# vae.fit(X_jets_train, epochs=30, batch_size = 32, validation_split = 0.2)\u001b[0m\u001b[0;34m\u001b[0m\u001b[0;34m\u001b[0m\u001b[0m\n\u001b[1;32m      6\u001b[0m \u001b[0;31m# vae.fit(combined, epochs=30, batch_size = 32, validation_split = 0.2)\u001b[0m\u001b[0;34m\u001b[0m\u001b[0;34m\u001b[0m\u001b[0m\n\u001b[0;32m----> 7\u001b[0;31m \u001b[0mvae\u001b[0m\u001b[0;34m.\u001b[0m\u001b[0mfit\u001b[0m\u001b[0;34m(\u001b[0m\u001b[0mcombined\u001b[0m\u001b[0;34m,\u001b[0m \u001b[0mcombined\u001b[0m\u001b[0;34m,\u001b[0m \u001b[0mepochs\u001b[0m\u001b[0;34m=\u001b[0m\u001b[0;36m50\u001b[0m\u001b[0;34m,\u001b[0m \u001b[0mbatch_size\u001b[0m\u001b[0;34m=\u001b[0m\u001b[0;36m128\u001b[0m\u001b[0;34m,\u001b[0m \u001b[0mvalidation_data\u001b[0m\u001b[0;34m=\u001b[0m\u001b[0;34m(\u001b[0m\u001b[0mcombined_test\u001b[0m\u001b[0;34m,\u001b[0m \u001b[0mcombined_test\u001b[0m\u001b[0;34m)\u001b[0m\u001b[0;34m,\u001b[0m \u001b[0mcallbacks\u001b[0m\u001b[0;34m=\u001b[0m\u001b[0;34m[\u001b[0m\u001b[0mes\u001b[0m\u001b[0;34m]\u001b[0m\u001b[0;34m,\u001b[0m \u001b[0mverbose\u001b[0m\u001b[0;34m=\u001b[0m\u001b[0;36m2\u001b[0m\u001b[0;34m)\u001b[0m\u001b[0;34m\u001b[0m\u001b[0;34m\u001b[0m\u001b[0m\n\u001b[0m",
            "\u001b[0;32m/usr/local/lib/python3.9/dist-packages/keras/utils/traceback_utils.py\u001b[0m in \u001b[0;36merror_handler\u001b[0;34m(*args, **kwargs)\u001b[0m\n\u001b[1;32m     63\u001b[0m         \u001b[0mfiltered_tb\u001b[0m \u001b[0;34m=\u001b[0m \u001b[0;32mNone\u001b[0m\u001b[0;34m\u001b[0m\u001b[0;34m\u001b[0m\u001b[0m\n\u001b[1;32m     64\u001b[0m         \u001b[0;32mtry\u001b[0m\u001b[0;34m:\u001b[0m\u001b[0;34m\u001b[0m\u001b[0;34m\u001b[0m\u001b[0m\n\u001b[0;32m---> 65\u001b[0;31m             \u001b[0;32mreturn\u001b[0m \u001b[0mfn\u001b[0m\u001b[0;34m(\u001b[0m\u001b[0;34m*\u001b[0m\u001b[0margs\u001b[0m\u001b[0;34m,\u001b[0m \u001b[0;34m**\u001b[0m\u001b[0mkwargs\u001b[0m\u001b[0;34m)\u001b[0m\u001b[0;34m\u001b[0m\u001b[0;34m\u001b[0m\u001b[0m\n\u001b[0m\u001b[1;32m     66\u001b[0m         \u001b[0;32mexcept\u001b[0m \u001b[0mException\u001b[0m \u001b[0;32mas\u001b[0m \u001b[0me\u001b[0m\u001b[0;34m:\u001b[0m\u001b[0;34m\u001b[0m\u001b[0;34m\u001b[0m\u001b[0m\n\u001b[1;32m     67\u001b[0m             \u001b[0mfiltered_tb\u001b[0m \u001b[0;34m=\u001b[0m \u001b[0m_process_traceback_frames\u001b[0m\u001b[0;34m(\u001b[0m\u001b[0me\u001b[0m\u001b[0;34m.\u001b[0m\u001b[0m__traceback__\u001b[0m\u001b[0;34m)\u001b[0m\u001b[0;34m\u001b[0m\u001b[0;34m\u001b[0m\u001b[0m\n",
            "\u001b[0;32m/usr/local/lib/python3.9/dist-packages/keras/engine/training.py\u001b[0m in \u001b[0;36mfit\u001b[0;34m(self, x, y, batch_size, epochs, verbose, callbacks, validation_split, validation_data, shuffle, class_weight, sample_weight, initial_epoch, steps_per_epoch, validation_steps, validation_batch_size, validation_freq, max_queue_size, workers, use_multiprocessing)\u001b[0m\n\u001b[1;32m   1692\u001b[0m                             \u001b[0msteps_per_execution\u001b[0m\u001b[0;34m=\u001b[0m\u001b[0mself\u001b[0m\u001b[0;34m.\u001b[0m\u001b[0m_steps_per_execution\u001b[0m\u001b[0;34m,\u001b[0m\u001b[0;34m\u001b[0m\u001b[0;34m\u001b[0m\u001b[0m\n\u001b[1;32m   1693\u001b[0m                         )\n\u001b[0;32m-> 1694\u001b[0;31m                     val_logs = self.evaluate(\n\u001b[0m\u001b[1;32m   1695\u001b[0m                         \u001b[0mx\u001b[0m\u001b[0;34m=\u001b[0m\u001b[0mval_x\u001b[0m\u001b[0;34m,\u001b[0m\u001b[0;34m\u001b[0m\u001b[0;34m\u001b[0m\u001b[0m\n\u001b[1;32m   1696\u001b[0m                         \u001b[0my\u001b[0m\u001b[0;34m=\u001b[0m\u001b[0mval_y\u001b[0m\u001b[0;34m,\u001b[0m\u001b[0;34m\u001b[0m\u001b[0;34m\u001b[0m\u001b[0m\n",
            "\u001b[0;32m/usr/local/lib/python3.9/dist-packages/keras/utils/traceback_utils.py\u001b[0m in \u001b[0;36merror_handler\u001b[0;34m(*args, **kwargs)\u001b[0m\n\u001b[1;32m     63\u001b[0m         \u001b[0mfiltered_tb\u001b[0m \u001b[0;34m=\u001b[0m \u001b[0;32mNone\u001b[0m\u001b[0;34m\u001b[0m\u001b[0;34m\u001b[0m\u001b[0m\n\u001b[1;32m     64\u001b[0m         \u001b[0;32mtry\u001b[0m\u001b[0;34m:\u001b[0m\u001b[0;34m\u001b[0m\u001b[0;34m\u001b[0m\u001b[0m\n\u001b[0;32m---> 65\u001b[0;31m             \u001b[0;32mreturn\u001b[0m \u001b[0mfn\u001b[0m\u001b[0;34m(\u001b[0m\u001b[0;34m*\u001b[0m\u001b[0margs\u001b[0m\u001b[0;34m,\u001b[0m \u001b[0;34m**\u001b[0m\u001b[0mkwargs\u001b[0m\u001b[0;34m)\u001b[0m\u001b[0;34m\u001b[0m\u001b[0;34m\u001b[0m\u001b[0m\n\u001b[0m\u001b[1;32m     66\u001b[0m         \u001b[0;32mexcept\u001b[0m \u001b[0mException\u001b[0m \u001b[0;32mas\u001b[0m \u001b[0me\u001b[0m\u001b[0;34m:\u001b[0m\u001b[0;34m\u001b[0m\u001b[0;34m\u001b[0m\u001b[0m\n\u001b[1;32m     67\u001b[0m             \u001b[0mfiltered_tb\u001b[0m \u001b[0;34m=\u001b[0m \u001b[0m_process_traceback_frames\u001b[0m\u001b[0;34m(\u001b[0m\u001b[0me\u001b[0m\u001b[0;34m.\u001b[0m\u001b[0m__traceback__\u001b[0m\u001b[0;34m)\u001b[0m\u001b[0;34m\u001b[0m\u001b[0;34m\u001b[0m\u001b[0m\n",
            "\u001b[0;32m/usr/local/lib/python3.9/dist-packages/keras/engine/training.py\u001b[0m in \u001b[0;36mevaluate\u001b[0;34m(self, x, y, batch_size, verbose, sample_weight, steps, callbacks, max_queue_size, workers, use_multiprocessing, return_dict, **kwargs)\u001b[0m\n\u001b[1;32m   2038\u001b[0m                         ):\n\u001b[1;32m   2039\u001b[0m                             \u001b[0mcallbacks\u001b[0m\u001b[0;34m.\u001b[0m\u001b[0mon_test_batch_begin\u001b[0m\u001b[0;34m(\u001b[0m\u001b[0mstep\u001b[0m\u001b[0;34m)\u001b[0m\u001b[0;34m\u001b[0m\u001b[0;34m\u001b[0m\u001b[0m\n\u001b[0;32m-> 2040\u001b[0;31m                             \u001b[0mtmp_logs\u001b[0m \u001b[0;34m=\u001b[0m \u001b[0mself\u001b[0m\u001b[0;34m.\u001b[0m\u001b[0mtest_function\u001b[0m\u001b[0;34m(\u001b[0m\u001b[0miterator\u001b[0m\u001b[0;34m)\u001b[0m\u001b[0;34m\u001b[0m\u001b[0;34m\u001b[0m\u001b[0m\n\u001b[0m\u001b[1;32m   2041\u001b[0m                             \u001b[0;32mif\u001b[0m \u001b[0mdata_handler\u001b[0m\u001b[0;34m.\u001b[0m\u001b[0mshould_sync\u001b[0m\u001b[0;34m:\u001b[0m\u001b[0;34m\u001b[0m\u001b[0;34m\u001b[0m\u001b[0m\n\u001b[1;32m   2042\u001b[0m                                 \u001b[0mcontext\u001b[0m\u001b[0;34m.\u001b[0m\u001b[0masync_wait\u001b[0m\u001b[0;34m(\u001b[0m\u001b[0;34m)\u001b[0m\u001b[0;34m\u001b[0m\u001b[0;34m\u001b[0m\u001b[0m\n",
            "\u001b[0;32m/usr/local/lib/python3.9/dist-packages/tensorflow/python/util/traceback_utils.py\u001b[0m in \u001b[0;36merror_handler\u001b[0;34m(*args, **kwargs)\u001b[0m\n\u001b[1;32m    148\u001b[0m     \u001b[0mfiltered_tb\u001b[0m \u001b[0;34m=\u001b[0m \u001b[0;32mNone\u001b[0m\u001b[0;34m\u001b[0m\u001b[0;34m\u001b[0m\u001b[0m\n\u001b[1;32m    149\u001b[0m     \u001b[0;32mtry\u001b[0m\u001b[0;34m:\u001b[0m\u001b[0;34m\u001b[0m\u001b[0;34m\u001b[0m\u001b[0m\n\u001b[0;32m--> 150\u001b[0;31m       \u001b[0;32mreturn\u001b[0m \u001b[0mfn\u001b[0m\u001b[0;34m(\u001b[0m\u001b[0;34m*\u001b[0m\u001b[0margs\u001b[0m\u001b[0;34m,\u001b[0m \u001b[0;34m**\u001b[0m\u001b[0mkwargs\u001b[0m\u001b[0;34m)\u001b[0m\u001b[0;34m\u001b[0m\u001b[0;34m\u001b[0m\u001b[0m\n\u001b[0m\u001b[1;32m    151\u001b[0m     \u001b[0;32mexcept\u001b[0m \u001b[0mException\u001b[0m \u001b[0;32mas\u001b[0m \u001b[0me\u001b[0m\u001b[0;34m:\u001b[0m\u001b[0;34m\u001b[0m\u001b[0;34m\u001b[0m\u001b[0m\n\u001b[1;32m    152\u001b[0m       \u001b[0mfiltered_tb\u001b[0m \u001b[0;34m=\u001b[0m \u001b[0m_process_traceback_frames\u001b[0m\u001b[0;34m(\u001b[0m\u001b[0me\u001b[0m\u001b[0;34m.\u001b[0m\u001b[0m__traceback__\u001b[0m\u001b[0;34m)\u001b[0m\u001b[0;34m\u001b[0m\u001b[0;34m\u001b[0m\u001b[0m\n",
            "\u001b[0;32m/usr/local/lib/python3.9/dist-packages/tensorflow/python/eager/polymorphic_function/polymorphic_function.py\u001b[0m in \u001b[0;36m__call__\u001b[0;34m(self, *args, **kwds)\u001b[0m\n\u001b[1;32m    878\u001b[0m \u001b[0;34m\u001b[0m\u001b[0m\n\u001b[1;32m    879\u001b[0m       \u001b[0;32mwith\u001b[0m \u001b[0mOptionalXlaContext\u001b[0m\u001b[0;34m(\u001b[0m\u001b[0mself\u001b[0m\u001b[0;34m.\u001b[0m\u001b[0m_jit_compile\u001b[0m\u001b[0;34m)\u001b[0m\u001b[0;34m:\u001b[0m\u001b[0;34m\u001b[0m\u001b[0;34m\u001b[0m\u001b[0m\n\u001b[0;32m--> 880\u001b[0;31m         \u001b[0mresult\u001b[0m \u001b[0;34m=\u001b[0m \u001b[0mself\u001b[0m\u001b[0;34m.\u001b[0m\u001b[0m_call\u001b[0m\u001b[0;34m(\u001b[0m\u001b[0;34m*\u001b[0m\u001b[0margs\u001b[0m\u001b[0;34m,\u001b[0m \u001b[0;34m**\u001b[0m\u001b[0mkwds\u001b[0m\u001b[0;34m)\u001b[0m\u001b[0;34m\u001b[0m\u001b[0;34m\u001b[0m\u001b[0m\n\u001b[0m\u001b[1;32m    881\u001b[0m \u001b[0;34m\u001b[0m\u001b[0m\n\u001b[1;32m    882\u001b[0m       \u001b[0mnew_tracing_count\u001b[0m \u001b[0;34m=\u001b[0m \u001b[0mself\u001b[0m\u001b[0;34m.\u001b[0m\u001b[0mexperimental_get_tracing_count\u001b[0m\u001b[0;34m(\u001b[0m\u001b[0;34m)\u001b[0m\u001b[0;34m\u001b[0m\u001b[0;34m\u001b[0m\u001b[0m\n",
            "\u001b[0;32m/usr/local/lib/python3.9/dist-packages/tensorflow/python/eager/polymorphic_function/polymorphic_function.py\u001b[0m in \u001b[0;36m_call\u001b[0;34m(self, *args, **kwds)\u001b[0m\n\u001b[1;32m    917\u001b[0m       \u001b[0;31m# In this case we have not created variables on the first call. So we can\u001b[0m\u001b[0;34m\u001b[0m\u001b[0;34m\u001b[0m\u001b[0m\n\u001b[1;32m    918\u001b[0m       \u001b[0;31m# run the first trace but we should fail if variables are created.\u001b[0m\u001b[0;34m\u001b[0m\u001b[0;34m\u001b[0m\u001b[0m\n\u001b[0;32m--> 919\u001b[0;31m       \u001b[0mresults\u001b[0m \u001b[0;34m=\u001b[0m \u001b[0mself\u001b[0m\u001b[0;34m.\u001b[0m\u001b[0m_variable_creation_fn\u001b[0m\u001b[0;34m(\u001b[0m\u001b[0;34m*\u001b[0m\u001b[0margs\u001b[0m\u001b[0;34m,\u001b[0m \u001b[0;34m**\u001b[0m\u001b[0mkwds\u001b[0m\u001b[0;34m)\u001b[0m\u001b[0;34m\u001b[0m\u001b[0;34m\u001b[0m\u001b[0m\n\u001b[0m\u001b[1;32m    920\u001b[0m       \u001b[0;32mif\u001b[0m \u001b[0mself\u001b[0m\u001b[0;34m.\u001b[0m\u001b[0m_created_variables\u001b[0m \u001b[0;32mand\u001b[0m \u001b[0;32mnot\u001b[0m \u001b[0mALLOW_DYNAMIC_VARIABLE_CREATION\u001b[0m\u001b[0;34m:\u001b[0m\u001b[0;34m\u001b[0m\u001b[0;34m\u001b[0m\u001b[0m\n\u001b[1;32m    921\u001b[0m         raise ValueError(\"Creating variables on a non-first call to a function\"\n",
            "\u001b[0;32m/usr/local/lib/python3.9/dist-packages/tensorflow/python/eager/polymorphic_function/tracing_compiler.py\u001b[0m in \u001b[0;36m__call__\u001b[0;34m(self, *args, **kwargs)\u001b[0m\n\u001b[1;32m    132\u001b[0m       (concrete_function,\n\u001b[1;32m    133\u001b[0m        filtered_flat_args) = self._maybe_define_function(args, kwargs)\n\u001b[0;32m--> 134\u001b[0;31m     return concrete_function._call_flat(\n\u001b[0m\u001b[1;32m    135\u001b[0m         filtered_flat_args, captured_inputs=concrete_function.captured_inputs)  # pylint: disable=protected-access\n\u001b[1;32m    136\u001b[0m \u001b[0;34m\u001b[0m\u001b[0m\n",
            "\u001b[0;32m/usr/local/lib/python3.9/dist-packages/tensorflow/python/eager/polymorphic_function/monomorphic_function.py\u001b[0m in \u001b[0;36m_call_flat\u001b[0;34m(self, args, captured_inputs, cancellation_manager)\u001b[0m\n\u001b[1;32m   1743\u001b[0m         and executing_eagerly):\n\u001b[1;32m   1744\u001b[0m       \u001b[0;31m# No tape is watching; skip to running the function.\u001b[0m\u001b[0;34m\u001b[0m\u001b[0;34m\u001b[0m\u001b[0m\n\u001b[0;32m-> 1745\u001b[0;31m       return self._build_call_outputs(self._inference_function.call(\n\u001b[0m\u001b[1;32m   1746\u001b[0m           ctx, args, cancellation_manager=cancellation_manager))\n\u001b[1;32m   1747\u001b[0m     forward_backward = self._select_forward_and_backward_functions(\n",
            "\u001b[0;32m/usr/local/lib/python3.9/dist-packages/tensorflow/python/eager/polymorphic_function/monomorphic_function.py\u001b[0m in \u001b[0;36mcall\u001b[0;34m(self, ctx, args, cancellation_manager)\u001b[0m\n\u001b[1;32m    376\u001b[0m       \u001b[0;32mwith\u001b[0m \u001b[0m_InterpolateFunctionError\u001b[0m\u001b[0;34m(\u001b[0m\u001b[0mself\u001b[0m\u001b[0;34m)\u001b[0m\u001b[0;34m:\u001b[0m\u001b[0;34m\u001b[0m\u001b[0;34m\u001b[0m\u001b[0m\n\u001b[1;32m    377\u001b[0m         \u001b[0;32mif\u001b[0m \u001b[0mcancellation_manager\u001b[0m \u001b[0;32mis\u001b[0m \u001b[0;32mNone\u001b[0m\u001b[0;34m:\u001b[0m\u001b[0;34m\u001b[0m\u001b[0;34m\u001b[0m\u001b[0m\n\u001b[0;32m--> 378\u001b[0;31m           outputs = execute.execute(\n\u001b[0m\u001b[1;32m    379\u001b[0m               \u001b[0mstr\u001b[0m\u001b[0;34m(\u001b[0m\u001b[0mself\u001b[0m\u001b[0;34m.\u001b[0m\u001b[0msignature\u001b[0m\u001b[0;34m.\u001b[0m\u001b[0mname\u001b[0m\u001b[0;34m)\u001b[0m\u001b[0;34m,\u001b[0m\u001b[0;34m\u001b[0m\u001b[0;34m\u001b[0m\u001b[0m\n\u001b[1;32m    380\u001b[0m               \u001b[0mnum_outputs\u001b[0m\u001b[0;34m=\u001b[0m\u001b[0mself\u001b[0m\u001b[0;34m.\u001b[0m\u001b[0m_num_outputs\u001b[0m\u001b[0;34m,\u001b[0m\u001b[0;34m\u001b[0m\u001b[0;34m\u001b[0m\u001b[0m\n",
            "\u001b[0;32m/usr/local/lib/python3.9/dist-packages/tensorflow/python/eager/execute.py\u001b[0m in \u001b[0;36mquick_execute\u001b[0;34m(op_name, num_outputs, inputs, attrs, ctx, name)\u001b[0m\n\u001b[1;32m     50\u001b[0m   \u001b[0;32mtry\u001b[0m\u001b[0;34m:\u001b[0m\u001b[0;34m\u001b[0m\u001b[0;34m\u001b[0m\u001b[0m\n\u001b[1;32m     51\u001b[0m     \u001b[0mctx\u001b[0m\u001b[0;34m.\u001b[0m\u001b[0mensure_initialized\u001b[0m\u001b[0;34m(\u001b[0m\u001b[0;34m)\u001b[0m\u001b[0;34m\u001b[0m\u001b[0;34m\u001b[0m\u001b[0m\n\u001b[0;32m---> 52\u001b[0;31m     tensors = pywrap_tfe.TFE_Py_Execute(ctx._handle, device_name, op_name,\n\u001b[0m\u001b[1;32m     53\u001b[0m                                         inputs, attrs, num_outputs)\n\u001b[1;32m     54\u001b[0m   \u001b[0;32mexcept\u001b[0m \u001b[0mcore\u001b[0m\u001b[0;34m.\u001b[0m\u001b[0m_NotOkStatusException\u001b[0m \u001b[0;32mas\u001b[0m \u001b[0me\u001b[0m\u001b[0;34m:\u001b[0m\u001b[0;34m\u001b[0m\u001b[0;34m\u001b[0m\u001b[0m\n",
            "\u001b[0;31mKeyboardInterrupt\u001b[0m: "
          ]
        }
      ]
    },
    {
      "cell_type": "code",
      "source": [
        "# vae.summary()"
      ],
      "metadata": {
        "id": "q4T6gxDqRM4v"
      },
      "execution_count": null,
      "outputs": []
    },
    {
      "cell_type": "markdown",
      "source": [
        "# Discussion"
      ],
      "metadata": {
        "id": "E9jQVcWb5icM"
      }
    }
  ]
}